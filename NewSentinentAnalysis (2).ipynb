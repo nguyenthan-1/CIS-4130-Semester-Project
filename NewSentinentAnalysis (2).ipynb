{
 "cells": [
  {
   "cell_type": "code",
   "execution_count": 37,
   "id": "283a029f-fc86-4f7b-8e29-632ff667ff06",
   "metadata": {
    "execution": {
     "iopub.execute_input": "2022-12-09T21:31:52.091096Z",
     "iopub.status.busy": "2022-12-09T21:31:52.090868Z",
     "iopub.status.idle": "2022-12-09T21:31:52.154389Z",
     "shell.execute_reply": "2022-12-09T21:31:52.153598Z",
     "shell.execute_reply.started": "2022-12-09T21:31:52.091072Z"
    },
    "tags": []
   },
   "outputs": [
    {
     "data": {
      "application/vnd.jupyter.widget-view+json": {
       "model_id": "c26fb8b7cb564411b2586781a2776cc2",
       "version_major": 2,
       "version_minor": 0
      },
      "text/plain": [
       "VBox()"
      ]
     },
     "metadata": {},
     "output_type": "display_data"
    },
    {
     "data": {
      "application/vnd.jupyter.widget-view+json": {
       "model_id": "",
       "version_major": 2,
       "version_minor": 0
      },
      "text/plain": [
       "FloatProgress(value=0.0, bar_style='info', description='Progress:', layout=Layout(height='25px', width='50%'),…"
      ]
     },
     "metadata": {},
     "output_type": "display_data"
    }
   ],
   "source": [
    "from pyspark.sql import functions as F"
   ]
  },
  {
   "cell_type": "code",
   "execution_count": 38,
   "id": "827c4f12-2923-445f-86f6-b73897d7be44",
   "metadata": {
    "execution": {
     "iopub.execute_input": "2022-12-09T21:31:59.001565Z",
     "iopub.status.busy": "2022-12-09T21:31:59.001347Z",
     "iopub.status.idle": "2022-12-09T21:31:59.076323Z",
     "shell.execute_reply": "2022-12-09T21:31:59.075734Z",
     "shell.execute_reply.started": "2022-12-09T21:31:59.001541Z"
    },
    "tags": []
   },
   "outputs": [
    {
     "data": {
      "application/vnd.jupyter.widget-view+json": {
       "model_id": "98f8912bdc6e4749834f7e11c19cb992",
       "version_major": 2,
       "version_minor": 0
      },
      "text/plain": [
       "VBox()"
      ]
     },
     "metadata": {},
     "output_type": "display_data"
    },
    {
     "data": {
      "application/vnd.jupyter.widget-view+json": {
       "model_id": "",
       "version_major": 2,
       "version_minor": 0
      },
      "text/plain": [
       "FloatProgress(value=0.0, bar_style='info', description='Progress:', layout=Layout(height='25px', width='50%'),…"
      ]
     },
     "metadata": {},
     "output_type": "display_data"
    },
    {
     "name": "stderr",
     "output_type": "stream",
     "text": [
      "An error was encountered:\n",
      "Package already installed for current Spark context!\n",
      "Traceback (most recent call last):\n",
      "  File \"/usr/lib/spark/python/lib/pyspark.zip/pyspark/context.py\", line 1110, in install_pypi_package\n",
      "    raise ValueError(\"Package already installed for current Spark context!\")\n",
      "ValueError: Package already installed for current Spark context!\n",
      "\n"
     ]
    }
   ],
   "source": [
    "sc.install_pypi_package(\"pandas==1.0.3\")\n",
    "sc.install_pypi_package(\"matplotlib==3.2.1\")\n",
    "sc.install_pypi_package(\"scipy==1.7.1\")\n",
    "sc.install_pypi_package(\"seaborn==0.10.0\")\n"
   ]
  },
  {
   "cell_type": "code",
   "execution_count": 127,
   "id": "e1ff3d7e-aca6-4150-a31b-6ac792b784a3",
   "metadata": {
    "execution": {
     "iopub.execute_input": "2022-12-10T00:52:25.040882Z",
     "iopub.status.busy": "2022-12-10T00:52:25.040661Z",
     "iopub.status.idle": "2022-12-10T00:52:25.056965Z",
     "shell.execute_reply": "2022-12-10T00:52:25.055885Z",
     "shell.execute_reply.started": "2022-12-10T00:52:25.040858Z"
    }
   },
   "outputs": [
    {
     "ename": "ModuleNotFoundError",
     "evalue": "No module named 'matplotlib'",
     "output_type": "error",
     "traceback": [
      "\u001b[0;31m---------------------------------------------------------------------------\u001b[0m",
      "\u001b[0;31mModuleNotFoundError\u001b[0m                       Traceback (most recent call last)",
      "\u001b[0;32m<ipython-input-127-9e3324102725>\u001b[0m in \u001b[0;36m<module>\u001b[0;34m\u001b[0m\n\u001b[0;32m----> 1\u001b[0;31m \u001b[0mget_ipython\u001b[0m\u001b[0;34m(\u001b[0m\u001b[0;34m)\u001b[0m\u001b[0;34m.\u001b[0m\u001b[0mrun_line_magic\u001b[0m\u001b[0;34m(\u001b[0m\u001b[0;34m'matplotlib'\u001b[0m\u001b[0;34m,\u001b[0m \u001b[0;34m'inline'\u001b[0m\u001b[0;34m)\u001b[0m\u001b[0;34m\u001b[0m\u001b[0;34m\u001b[0m\u001b[0m\n\u001b[0m",
      "\u001b[0;32m/mnt/notebook-env/lib/python3.7/site-packages/IPython/core/interactiveshell.py\u001b[0m in \u001b[0;36mrun_line_magic\u001b[0;34m(self, magic_name, line, _stack_depth)\u001b[0m\n\u001b[1;32m   2362\u001b[0m                 \u001b[0mkwargs\u001b[0m\u001b[0;34m[\u001b[0m\u001b[0;34m'local_ns'\u001b[0m\u001b[0;34m]\u001b[0m \u001b[0;34m=\u001b[0m \u001b[0mself\u001b[0m\u001b[0;34m.\u001b[0m\u001b[0mget_local_scope\u001b[0m\u001b[0;34m(\u001b[0m\u001b[0mstack_depth\u001b[0m\u001b[0;34m)\u001b[0m\u001b[0;34m\u001b[0m\u001b[0;34m\u001b[0m\u001b[0m\n\u001b[1;32m   2363\u001b[0m             \u001b[0;32mwith\u001b[0m \u001b[0mself\u001b[0m\u001b[0;34m.\u001b[0m\u001b[0mbuiltin_trap\u001b[0m\u001b[0;34m:\u001b[0m\u001b[0;34m\u001b[0m\u001b[0;34m\u001b[0m\u001b[0m\n\u001b[0;32m-> 2364\u001b[0;31m                 \u001b[0mresult\u001b[0m \u001b[0;34m=\u001b[0m \u001b[0mfn\u001b[0m\u001b[0;34m(\u001b[0m\u001b[0;34m*\u001b[0m\u001b[0margs\u001b[0m\u001b[0;34m,\u001b[0m \u001b[0;34m**\u001b[0m\u001b[0mkwargs\u001b[0m\u001b[0;34m)\u001b[0m\u001b[0;34m\u001b[0m\u001b[0;34m\u001b[0m\u001b[0m\n\u001b[0m\u001b[1;32m   2365\u001b[0m             \u001b[0;32mreturn\u001b[0m \u001b[0mresult\u001b[0m\u001b[0;34m\u001b[0m\u001b[0;34m\u001b[0m\u001b[0m\n\u001b[1;32m   2366\u001b[0m \u001b[0;34m\u001b[0m\u001b[0m\n",
      "\u001b[0;32m/mnt/notebook-env/lib/python3.7/site-packages/decorator.py\u001b[0m in \u001b[0;36mfun\u001b[0;34m(*args, **kw)\u001b[0m\n\u001b[1;32m    230\u001b[0m             \u001b[0;32mif\u001b[0m \u001b[0;32mnot\u001b[0m \u001b[0mkwsyntax\u001b[0m\u001b[0;34m:\u001b[0m\u001b[0;34m\u001b[0m\u001b[0;34m\u001b[0m\u001b[0m\n\u001b[1;32m    231\u001b[0m                 \u001b[0margs\u001b[0m\u001b[0;34m,\u001b[0m \u001b[0mkw\u001b[0m \u001b[0;34m=\u001b[0m \u001b[0mfix\u001b[0m\u001b[0;34m(\u001b[0m\u001b[0margs\u001b[0m\u001b[0;34m,\u001b[0m \u001b[0mkw\u001b[0m\u001b[0;34m,\u001b[0m \u001b[0msig\u001b[0m\u001b[0;34m)\u001b[0m\u001b[0;34m\u001b[0m\u001b[0;34m\u001b[0m\u001b[0m\n\u001b[0;32m--> 232\u001b[0;31m             \u001b[0;32mreturn\u001b[0m \u001b[0mcaller\u001b[0m\u001b[0;34m(\u001b[0m\u001b[0mfunc\u001b[0m\u001b[0;34m,\u001b[0m \u001b[0;34m*\u001b[0m\u001b[0;34m(\u001b[0m\u001b[0mextras\u001b[0m \u001b[0;34m+\u001b[0m \u001b[0margs\u001b[0m\u001b[0;34m)\u001b[0m\u001b[0;34m,\u001b[0m \u001b[0;34m**\u001b[0m\u001b[0mkw\u001b[0m\u001b[0;34m)\u001b[0m\u001b[0;34m\u001b[0m\u001b[0;34m\u001b[0m\u001b[0m\n\u001b[0m\u001b[1;32m    233\u001b[0m     \u001b[0mfun\u001b[0m\u001b[0;34m.\u001b[0m\u001b[0m__name__\u001b[0m \u001b[0;34m=\u001b[0m \u001b[0mfunc\u001b[0m\u001b[0;34m.\u001b[0m\u001b[0m__name__\u001b[0m\u001b[0;34m\u001b[0m\u001b[0;34m\u001b[0m\u001b[0m\n\u001b[1;32m    234\u001b[0m     \u001b[0mfun\u001b[0m\u001b[0;34m.\u001b[0m\u001b[0m__doc__\u001b[0m \u001b[0;34m=\u001b[0m \u001b[0mfunc\u001b[0m\u001b[0;34m.\u001b[0m\u001b[0m__doc__\u001b[0m\u001b[0;34m\u001b[0m\u001b[0;34m\u001b[0m\u001b[0m\n",
      "\u001b[0;32m/mnt/notebook-env/lib/python3.7/site-packages/IPython/core/magic.py\u001b[0m in \u001b[0;36m<lambda>\u001b[0;34m(f, *a, **k)\u001b[0m\n\u001b[1;32m    185\u001b[0m     \u001b[0;31m# but it's overkill for just that one bit of state.\u001b[0m\u001b[0;34m\u001b[0m\u001b[0;34m\u001b[0m\u001b[0;34m\u001b[0m\u001b[0m\n\u001b[1;32m    186\u001b[0m     \u001b[0;32mdef\u001b[0m \u001b[0mmagic_deco\u001b[0m\u001b[0;34m(\u001b[0m\u001b[0marg\u001b[0m\u001b[0;34m)\u001b[0m\u001b[0;34m:\u001b[0m\u001b[0;34m\u001b[0m\u001b[0;34m\u001b[0m\u001b[0m\n\u001b[0;32m--> 187\u001b[0;31m         \u001b[0mcall\u001b[0m \u001b[0;34m=\u001b[0m \u001b[0;32mlambda\u001b[0m \u001b[0mf\u001b[0m\u001b[0;34m,\u001b[0m \u001b[0;34m*\u001b[0m\u001b[0ma\u001b[0m\u001b[0;34m,\u001b[0m \u001b[0;34m**\u001b[0m\u001b[0mk\u001b[0m\u001b[0;34m:\u001b[0m \u001b[0mf\u001b[0m\u001b[0;34m(\u001b[0m\u001b[0;34m*\u001b[0m\u001b[0ma\u001b[0m\u001b[0;34m,\u001b[0m \u001b[0;34m**\u001b[0m\u001b[0mk\u001b[0m\u001b[0;34m)\u001b[0m\u001b[0;34m\u001b[0m\u001b[0;34m\u001b[0m\u001b[0m\n\u001b[0m\u001b[1;32m    188\u001b[0m \u001b[0;34m\u001b[0m\u001b[0m\n\u001b[1;32m    189\u001b[0m         \u001b[0;32mif\u001b[0m \u001b[0mcallable\u001b[0m\u001b[0;34m(\u001b[0m\u001b[0marg\u001b[0m\u001b[0;34m)\u001b[0m\u001b[0;34m:\u001b[0m\u001b[0;34m\u001b[0m\u001b[0;34m\u001b[0m\u001b[0m\n",
      "\u001b[0;32m/mnt/notebook-env/lib/python3.7/site-packages/IPython/core/magics/pylab.py\u001b[0m in \u001b[0;36mmatplotlib\u001b[0;34m(self, line)\u001b[0m\n\u001b[1;32m     97\u001b[0m             \u001b[0mprint\u001b[0m\u001b[0;34m(\u001b[0m\u001b[0;34m\"Available matplotlib backends: %s\"\u001b[0m \u001b[0;34m%\u001b[0m \u001b[0mbackends_list\u001b[0m\u001b[0;34m)\u001b[0m\u001b[0;34m\u001b[0m\u001b[0;34m\u001b[0m\u001b[0m\n\u001b[1;32m     98\u001b[0m         \u001b[0;32melse\u001b[0m\u001b[0;34m:\u001b[0m\u001b[0;34m\u001b[0m\u001b[0;34m\u001b[0m\u001b[0m\n\u001b[0;32m---> 99\u001b[0;31m             \u001b[0mgui\u001b[0m\u001b[0;34m,\u001b[0m \u001b[0mbackend\u001b[0m \u001b[0;34m=\u001b[0m \u001b[0mself\u001b[0m\u001b[0;34m.\u001b[0m\u001b[0mshell\u001b[0m\u001b[0;34m.\u001b[0m\u001b[0menable_matplotlib\u001b[0m\u001b[0;34m(\u001b[0m\u001b[0margs\u001b[0m\u001b[0;34m.\u001b[0m\u001b[0mgui\u001b[0m\u001b[0;34m.\u001b[0m\u001b[0mlower\u001b[0m\u001b[0;34m(\u001b[0m\u001b[0;34m)\u001b[0m \u001b[0;32mif\u001b[0m \u001b[0misinstance\u001b[0m\u001b[0;34m(\u001b[0m\u001b[0margs\u001b[0m\u001b[0;34m.\u001b[0m\u001b[0mgui\u001b[0m\u001b[0;34m,\u001b[0m \u001b[0mstr\u001b[0m\u001b[0;34m)\u001b[0m \u001b[0;32melse\u001b[0m \u001b[0margs\u001b[0m\u001b[0;34m.\u001b[0m\u001b[0mgui\u001b[0m\u001b[0;34m)\u001b[0m\u001b[0;34m\u001b[0m\u001b[0;34m\u001b[0m\u001b[0m\n\u001b[0m\u001b[1;32m    100\u001b[0m             \u001b[0mself\u001b[0m\u001b[0;34m.\u001b[0m\u001b[0m_show_matplotlib_backend\u001b[0m\u001b[0;34m(\u001b[0m\u001b[0margs\u001b[0m\u001b[0;34m.\u001b[0m\u001b[0mgui\u001b[0m\u001b[0;34m,\u001b[0m \u001b[0mbackend\u001b[0m\u001b[0;34m)\u001b[0m\u001b[0;34m\u001b[0m\u001b[0;34m\u001b[0m\u001b[0m\n\u001b[1;32m    101\u001b[0m \u001b[0;34m\u001b[0m\u001b[0m\n",
      "\u001b[0;32m/mnt/notebook-env/lib/python3.7/site-packages/IPython/core/interactiveshell.py\u001b[0m in \u001b[0;36menable_matplotlib\u001b[0;34m(self, gui)\u001b[0m\n\u001b[1;32m   3531\u001b[0m         \"\"\"\n\u001b[1;32m   3532\u001b[0m         \u001b[0;32mfrom\u001b[0m \u001b[0mIPython\u001b[0m\u001b[0;34m.\u001b[0m\u001b[0mcore\u001b[0m \u001b[0;32mimport\u001b[0m \u001b[0mpylabtools\u001b[0m \u001b[0;32mas\u001b[0m \u001b[0mpt\u001b[0m\u001b[0;34m\u001b[0m\u001b[0;34m\u001b[0m\u001b[0m\n\u001b[0;32m-> 3533\u001b[0;31m         \u001b[0;32mfrom\u001b[0m \u001b[0mmatplotlib_inline\u001b[0m\u001b[0;34m.\u001b[0m\u001b[0mbackend_inline\u001b[0m \u001b[0;32mimport\u001b[0m \u001b[0mconfigure_inline_support\u001b[0m\u001b[0;34m\u001b[0m\u001b[0;34m\u001b[0m\u001b[0m\n\u001b[0m\u001b[1;32m   3534\u001b[0m         \u001b[0mgui\u001b[0m\u001b[0;34m,\u001b[0m \u001b[0mbackend\u001b[0m \u001b[0;34m=\u001b[0m \u001b[0mpt\u001b[0m\u001b[0;34m.\u001b[0m\u001b[0mfind_gui_and_backend\u001b[0m\u001b[0;34m(\u001b[0m\u001b[0mgui\u001b[0m\u001b[0;34m,\u001b[0m \u001b[0mself\u001b[0m\u001b[0;34m.\u001b[0m\u001b[0mpylab_gui_select\u001b[0m\u001b[0;34m)\u001b[0m\u001b[0;34m\u001b[0m\u001b[0;34m\u001b[0m\u001b[0m\n\u001b[1;32m   3535\u001b[0m \u001b[0;34m\u001b[0m\u001b[0m\n",
      "\u001b[0;32m/mnt/notebook-env/lib/python3.7/site-packages/matplotlib_inline/backend_inline.py\u001b[0m in \u001b[0;36m<module>\u001b[0;34m\u001b[0m\n\u001b[1;32m      4\u001b[0m \u001b[0;31m# Distributed under the terms of the BSD 3-Clause License.\u001b[0m\u001b[0;34m\u001b[0m\u001b[0;34m\u001b[0m\u001b[0;34m\u001b[0m\u001b[0m\n\u001b[1;32m      5\u001b[0m \u001b[0;34m\u001b[0m\u001b[0m\n\u001b[0;32m----> 6\u001b[0;31m \u001b[0;32mimport\u001b[0m \u001b[0mmatplotlib\u001b[0m\u001b[0;34m\u001b[0m\u001b[0;34m\u001b[0m\u001b[0m\n\u001b[0m\u001b[1;32m      7\u001b[0m from matplotlib.backends.backend_agg import (  # noqa\n\u001b[1;32m      8\u001b[0m     \u001b[0mnew_figure_manager\u001b[0m\u001b[0;34m,\u001b[0m\u001b[0;34m\u001b[0m\u001b[0;34m\u001b[0m\u001b[0m\n",
      "\u001b[0;31mModuleNotFoundError\u001b[0m: No module named 'matplotlib'"
     ]
    }
   ],
   "source": [
    "%matplotlib inline"
   ]
  },
  {
   "cell_type": "code",
   "execution_count": 128,
   "id": "8c97170c-591d-4b3e-b97a-5ef4145a9e05",
   "metadata": {
    "execution": {
     "iopub.execute_input": "2022-12-10T00:52:33.948345Z",
     "iopub.status.busy": "2022-12-10T00:52:33.948116Z",
     "iopub.status.idle": "2022-12-10T00:52:34.005535Z",
     "shell.execute_reply": "2022-12-10T00:52:34.004999Z",
     "shell.execute_reply.started": "2022-12-10T00:52:33.948321Z"
    },
    "tags": []
   },
   "outputs": [
    {
     "data": {
      "application/vnd.jupyter.widget-view+json": {
       "model_id": "3c9ef06643bd4a80ac7547f911c55ff4",
       "version_major": 2,
       "version_minor": 0
      },
      "text/plain": [
       "VBox()"
      ]
     },
     "metadata": {},
     "output_type": "display_data"
    },
    {
     "data": {
      "application/vnd.jupyter.widget-view+json": {
       "model_id": "",
       "version_major": 2,
       "version_minor": 0
      },
      "text/plain": [
       "FloatProgress(value=0.0, bar_style='info', description='Progress:', layout=Layout(height='25px', width='50%'),…"
      ]
     },
     "metadata": {},
     "output_type": "display_data"
    }
   ],
   "source": [
    "import pandas as pd\n",
    "import numpy as np\n",
    "import matplotlib.pyplot as plt\n",
    "import seaborn as sns"
   ]
  },
  {
   "cell_type": "code",
   "execution_count": 40,
   "id": "0b810aa7-1d35-4501-9ea9-8c392ad2ed0f",
   "metadata": {
    "execution": {
     "iopub.execute_input": "2022-12-09T21:32:09.815152Z",
     "iopub.status.busy": "2022-12-09T21:32:09.814935Z",
     "iopub.status.idle": "2022-12-09T21:32:41.220995Z",
     "shell.execute_reply": "2022-12-09T21:32:41.220191Z",
     "shell.execute_reply.started": "2022-12-09T21:32:09.815129Z"
    },
    "tags": []
   },
   "outputs": [
    {
     "data": {
      "application/vnd.jupyter.widget-view+json": {
       "model_id": "1fd687965e714ee88d8cfbd9510e4b94",
       "version_major": 2,
       "version_minor": 0
      },
      "text/plain": [
       "VBox()"
      ]
     },
     "metadata": {},
     "output_type": "display_data"
    },
    {
     "data": {
      "application/vnd.jupyter.widget-view+json": {
       "model_id": "",
       "version_major": 2,
       "version_minor": 0
      },
      "text/plain": [
       "FloatProgress(value=0.0, bar_style='info', description='Progress:', layout=Layout(height='25px', width='50%'),…"
      ]
     },
     "metadata": {},
     "output_type": "display_data"
    },
    {
     "name": "stdout",
     "output_type": "stream",
     "text": [
      "+--------------------+----+-------------------+-----+--------------------+-----+--------------------+------+--------------------+\n",
      "|         business_id|cool|               date|funny|           review_id|stars|                text|useful|             user_id|\n",
      "+--------------------+----+-------------------+-----+--------------------+-----+--------------------+------+--------------------+\n",
      "|XQfwVwDr-v0ZS3_Cb...|   0|2018-07-07 22:09:11|    0|KU_O5udG6zpxOg-Vc...|  3.0|If you decide to ...|     0|mh_-eMZ6K5RLWhZyI...|\n",
      "|7ATYjTIgM3jUlt4UM...|   1|2012-01-03 15:28:18|    0|BiTunyQ73aT9WBnpR...|  5.0|I've taken a lot ...|     1|OyoGAe7OKpv6SyGZT...|\n",
      "|YjUWPpI6HXG530lwP...|   0|2014-02-05 20:30:30|    0|saUsX_uimxRlCVr67...|  3.0|Family diner. Had...|     0|8g_iMtfSiwikVnbP2...|\n",
      "|kxX2SOes4o-D3ZQBk...|   1|2015-01-04 00:01:03|    0|AqPFMleE6RsU23_au...|  5.0|Wow!  Yummy, diff...|     1|_7bHUi9Uuf5__HHc_...|\n",
      "|e4Vwtrqf-wpJfwesg...|   1|2017-01-14 20:54:15|    0|Sx8TMOWLNuJBWer-0...|  4.0|Cute interior and...|     1|bcjbaE6dDog4jkNY9...|\n",
      "|04UD14gamNjLY0IDY...|   1|2015-09-23 23:10:31|    2|JrIxlS1TzJ-iCu79u...|  1.0|I am a long term ...|     1|eUta8W_HdHMXPzLBB...|\n",
      "|gmjsEdUsKpj9Xxu6p...|   0|2015-01-03 23:21:18|    2|6AxgBCNX_PNTOxmbR...|  5.0|Loved this tour! ...|     0|r3zeYsv1XFBRA4dJp...|\n",
      "|LHSTtnW3YHCeUkRDG...|   0|2015-08-07 02:29:16|    0|_ZeMknuYdlQcUqng_...|  5.0|Amazingly amazing...|     2|yfFzsLmaWF2d4Sr0U...|\n",
      "|B5XSoSG3SfvQGtKEG...|   0|2016-03-30 22:46:33|    1|ZKvDG2sBvHVdF5oBN...|  3.0|This easter inste...|     1|wSTuiTk-sKNdcFypr...|\n",
      "|gebiRewfieSdtt17P...|   0|2016-07-25 07:31:06|    0|pUycOfUwM8vqX7KjR...|  3.0|Had a party of 6 ...|     0|59MxRhNVhU9MYndMk...|\n",
      "|uMvVYRgGNXf5boolA...|   0|2015-06-21 14:48:06|    0|rGQRf8UafX7OTlMNN...|  5.0|My experience wit...|     2|1WHRWwQmZOZDAhp2Q...|\n",
      "|EQ-TZ2eeD_E0BHuvo...|   0|2015-08-19 14:31:45|    0|l3Wk_mvAog6XANIuG...|  4.0|Locals recommende...|     0|ZbqSHbgCjzVAqaa7N...|\n",
      "|lj-E32x9_FA7GmUrB...|   0|2014-06-27 22:44:01|    0|XW_LfMv0fV21l9c6x...|  4.0|Love going here f...|     0|9OAtfnWag-ajVxRbU...|\n",
      "|RZtGWDLCAtuipwaZ-...|   0|2009-10-14 19:57:14|    0|8JFGBuHMoiNDyfcxu...|  4.0|Good food--loved ...|     0|smOvOajNG0lS4Pq7d...|\n",
      "|otQS34_MymijPTdNB...|   0|2011-10-27 17:12:05|    2|UBp0zWyH60Hmw6Fsa...|  4.0|The bun makes the...|     0|4Uh27DgGzsp6PqrH9...|\n",
      "|BVndHaLihEYbr76Z0...|   0|2014-10-11 16:22:06|    0|OAhBYw8IQ6wlfw1ow...|  5.0|Great place for b...|     0|1C2lxzUo1Hyye4RFI...|\n",
      "|YtSqYv1Q_pOltsVPS...|   0|2013-06-24 11:21:25|    0|oyaMhzBSwfGgemSGu...|  5.0|Tremendous servic...|     0|Dd1jQj7S-BFGqRbAp...|\n",
      "|rBdG_23USc7DletfZ...|   0|2014-08-10 19:41:43|    0|LnGZB0fjfgeVDVz5I...|  4.0|The hubby and I h...|     1|j2wlzrntrbKwyOcOi...|\n",
      "|CLEWowfkj-wKYJlQD...|   1|2016-03-07 00:02:18|    0|u2vzZaOqJ2feRshaa...|  5.0|I go to blow bar ...|     2|NDZvyYHTUWWu-kqgQ...|\n",
      "|eFvzHawVJofxSnD7T...|   0|2014-11-12 15:30:27|    0|Xs8Z8lmKkosqW5mw_...|  5.0|My absolute favor...|     0|IQsF3Rc6IgCzjVV9D...|\n",
      "+--------------------+----+-------------------+-----+--------------------+-----+--------------------+------+--------------------+\n",
      "only showing top 20 rows"
     ]
    }
   ],
   "source": [
    "input_bucket = 's3://project-yelp-review-sentiment-analysis/'\n",
    "input_path = 'yelp_academic_dataset_review.json'\n",
    "df = spark.read.json(input_bucket + input_path)\n",
    "df.show()"
   ]
  },
  {
   "cell_type": "markdown",
   "id": "890e4c94-ea1e-490d-b275-5955961e86a2",
   "metadata": {},
   "source": [
    "## Data Overview "
   ]
  },
  {
   "cell_type": "code",
   "execution_count": 41,
   "id": "169828b0-b23c-48da-b244-32977322849e",
   "metadata": {
    "execution": {
     "iopub.execute_input": "2022-12-09T21:32:45.565441Z",
     "iopub.status.busy": "2022-12-09T21:32:45.565204Z",
     "iopub.status.idle": "2022-12-09T21:32:58.994494Z",
     "shell.execute_reply": "2022-12-09T21:32:58.993611Z",
     "shell.execute_reply.started": "2022-12-09T21:32:45.565414Z"
    },
    "tags": []
   },
   "outputs": [
    {
     "data": {
      "application/vnd.jupyter.widget-view+json": {
       "model_id": "ca1c9b585a064ce48f02c86ec8f7457d",
       "version_major": 2,
       "version_minor": 0
      },
      "text/plain": [
       "VBox()"
      ]
     },
     "metadata": {},
     "output_type": "display_data"
    },
    {
     "data": {
      "application/vnd.jupyter.widget-view+json": {
       "model_id": "",
       "version_major": 2,
       "version_minor": 0
      },
      "text/plain": [
       "FloatProgress(value=0.0, bar_style='info', description='Progress:', layout=Layout(height='25px', width='50%'),…"
      ]
     },
     "metadata": {},
     "output_type": "display_data"
    },
    {
     "name": "stdout",
     "output_type": "stream",
     "text": [
      "Total columns =  9\n",
      "Total row =  6990280"
     ]
    }
   ],
   "source": [
    "total_col = len(df.dtypes)\n",
    "total_row = df.count()\n",
    "print(\"Total columns = \", total_col) \n",
    "print(\"Total row = \", total_row)"
   ]
  },
  {
   "cell_type": "code",
   "execution_count": 42,
   "id": "d8cc6c43-56be-4569-8add-9683f6809cce",
   "metadata": {
    "execution": {
     "iopub.execute_input": "2022-12-09T21:33:15.006681Z",
     "iopub.status.busy": "2022-12-09T21:33:15.006440Z",
     "iopub.status.idle": "2022-12-09T21:33:15.064567Z",
     "shell.execute_reply": "2022-12-09T21:33:15.063831Z",
     "shell.execute_reply.started": "2022-12-09T21:33:15.006655Z"
    },
    "tags": []
   },
   "outputs": [
    {
     "data": {
      "application/vnd.jupyter.widget-view+json": {
       "model_id": "b0ae9a9090974ea3b938da71ef5d529f",
       "version_major": 2,
       "version_minor": 0
      },
      "text/plain": [
       "VBox()"
      ]
     },
     "metadata": {},
     "output_type": "display_data"
    },
    {
     "data": {
      "application/vnd.jupyter.widget-view+json": {
       "model_id": "",
       "version_major": 2,
       "version_minor": 0
      },
      "text/plain": [
       "FloatProgress(value=0.0, bar_style='info', description='Progress:', layout=Layout(height='25px', width='50%'),…"
      ]
     },
     "metadata": {},
     "output_type": "display_data"
    },
    {
     "name": "stdout",
     "output_type": "stream",
     "text": [
      "root\n",
      " |-- business_id: string (nullable = true)\n",
      " |-- cool: long (nullable = true)\n",
      " |-- date: string (nullable = true)\n",
      " |-- funny: long (nullable = true)\n",
      " |-- review_id: string (nullable = true)\n",
      " |-- stars: double (nullable = true)\n",
      " |-- text: string (nullable = true)\n",
      " |-- useful: long (nullable = true)\n",
      " |-- user_id: string (nullable = true)"
     ]
    }
   ],
   "source": [
    "#schema \n",
    "df.printSchema()"
   ]
  },
  {
   "cell_type": "code",
   "execution_count": 43,
   "id": "df670486-afa3-4482-9484-6686910224d3",
   "metadata": {
    "execution": {
     "iopub.execute_input": "2022-12-09T21:33:18.100834Z",
     "iopub.status.busy": "2022-12-09T21:33:18.099902Z",
     "iopub.status.idle": "2022-12-09T21:33:18.882492Z",
     "shell.execute_reply": "2022-12-09T21:33:18.881848Z",
     "shell.execute_reply.started": "2022-12-09T21:33:18.100784Z"
    },
    "tags": []
   },
   "outputs": [
    {
     "data": {
      "application/vnd.jupyter.widget-view+json": {
       "model_id": "63eb3e928a0547ed89d94319a8172e26",
       "version_major": 2,
       "version_minor": 0
      },
      "text/plain": [
       "VBox()"
      ]
     },
     "metadata": {},
     "output_type": "display_data"
    },
    {
     "data": {
      "application/vnd.jupyter.widget-view+json": {
       "model_id": "",
       "version_major": 2,
       "version_minor": 0
      },
      "text/plain": [
       "FloatProgress(value=0.0, bar_style='info', description='Progress:', layout=Layout(height='25px', width='50%'),…"
      ]
     },
     "metadata": {},
     "output_type": "display_data"
    },
    {
     "name": "stdout",
     "output_type": "stream",
     "text": [
      "+--------------------+--------------------+-----+\n",
      "|           review_id|                text|stars|\n",
      "+--------------------+--------------------+-----+\n",
      "|KU_O5udG6zpxOg-Vc...|If you decide to ...|  3.0|\n",
      "|BiTunyQ73aT9WBnpR...|I've taken a lot ...|  5.0|\n",
      "|saUsX_uimxRlCVr67...|Family diner. Had...|  3.0|\n",
      "|AqPFMleE6RsU23_au...|Wow!  Yummy, diff...|  5.0|\n",
      "|Sx8TMOWLNuJBWer-0...|Cute interior and...|  4.0|\n",
      "+--------------------+--------------------+-----+\n",
      "only showing top 5 rows"
     ]
    }
   ],
   "source": [
    "new_df = df.select(\"review_id\", \"text\", \"stars\") \n",
    "new_df.show(5)"
   ]
  },
  {
   "cell_type": "code",
   "execution_count": 63,
   "id": "cd10fdb4-a131-4516-aa67-a6a0d58e58df",
   "metadata": {
    "execution": {
     "iopub.execute_input": "2022-12-09T21:51:22.479494Z",
     "iopub.status.busy": "2022-12-09T21:51:22.479109Z",
     "iopub.status.idle": "2022-12-09T21:51:29.868778Z",
     "shell.execute_reply": "2022-12-09T21:51:29.868176Z",
     "shell.execute_reply.started": "2022-12-09T21:51:22.479446Z"
    },
    "tags": []
   },
   "outputs": [
    {
     "data": {
      "application/vnd.jupyter.widget-view+json": {
       "model_id": "f113aced12a34304810a78fc79fafb84",
       "version_major": 2,
       "version_minor": 0
      },
      "text/plain": [
       "VBox()"
      ]
     },
     "metadata": {},
     "output_type": "display_data"
    },
    {
     "data": {
      "application/vnd.jupyter.widget-view+json": {
       "model_id": "",
       "version_major": 2,
       "version_minor": 0
      },
      "text/plain": [
       "FloatProgress(value=0.0, bar_style='info', description='Progress:', layout=Layout(height='25px', width='50%'),…"
      ]
     },
     "metadata": {},
     "output_type": "display_data"
    },
    {
     "name": "stdout",
     "output_type": "stream",
     "text": [
      "+--------------------+--------------------+-----+\n",
      "|           review_id|                text|label|\n",
      "+--------------------+--------------------+-----+\n",
      "|KU_O5udG6zpxOg-Vc...|If you decide to ...|  0.0|\n",
      "|BiTunyQ73aT9WBnpR...|I've taken a lot ...|  1.0|\n",
      "|saUsX_uimxRlCVr67...|Family diner. Had...|  0.0|\n",
      "|AqPFMleE6RsU23_au...|Wow!  Yummy, diff...|  1.0|\n",
      "|Sx8TMOWLNuJBWer-0...|Cute interior and...|  1.0|\n",
      "+--------------------+--------------------+-----+\n",
      "only showing top 5 rows"
     ]
    }
   ],
   "source": [
    "# binarize rating\n",
    "#for review with star from 1 to 3 return 0 => negative sentinent, with star of 4 and 5 return 1 => positive sentinent\n",
    "#binarize rating\n",
    "from pyspark.ml.feature import Binarizer \n",
    "#def convert_rating(rating):\n",
    "    #rating = int(rating)\n",
    "    #if rating >=4: return 1\n",
    "    #else: return 0'''' \n",
    "#this code did not work on my the second time I run this file so I use binarizer instead \n",
    "# apply to review raw data\n",
    "binarizer = Binarizer(threshold = 3, inputCol = \"stars\", outputCol = \"label\")\n",
    "review_df = binarizer.transform(new_df).drop('stars')\n",
    "\n",
    "review_df.show(5)"
   ]
  },
  {
   "cell_type": "code",
   "execution_count": null,
   "id": "ff379de9-2a2d-48dd-9feb-4df7aec12ada",
   "metadata": {},
   "outputs": [],
   "source": []
  },
  {
   "cell_type": "code",
   "execution_count": 49,
   "id": "35545018-523c-4e90-9a1f-a226e75ebbc7",
   "metadata": {
    "execution": {
     "iopub.execute_input": "2022-12-09T21:36:18.845284Z",
     "iopub.status.busy": "2022-12-09T21:36:18.844967Z",
     "iopub.status.idle": "2022-12-09T21:36:18.923644Z",
     "shell.execute_reply": "2022-12-09T21:36:18.922587Z",
     "shell.execute_reply.started": "2022-12-09T21:36:18.845246Z"
    },
    "tags": []
   },
   "outputs": [
    {
     "data": {
      "application/vnd.jupyter.widget-view+json": {
       "model_id": "a5ff97e16aef4e85a355d0c1351fb0c0",
       "version_major": 2,
       "version_minor": 0
      },
      "text/plain": [
       "VBox()"
      ]
     },
     "metadata": {},
     "output_type": "display_data"
    },
    {
     "data": {
      "application/vnd.jupyter.widget-view+json": {
       "model_id": "",
       "version_major": 2,
       "version_minor": 0
      },
      "text/plain": [
       "FloatProgress(value=0.0, bar_style='info', description='Progress:', layout=Layout(height='25px', width='50%'),…"
      ]
     },
     "metadata": {},
     "output_type": "display_data"
    },
    {
     "name": "stderr",
     "output_type": "stream",
     "text": [
      "An error was encountered:\n",
      "name 'review_df' is not defined\n",
      "Traceback (most recent call last):\n",
      "NameError: name 'review_df' is not defined\n",
      "\n"
     ]
    }
   ],
   "source": [
    "review_df.show(5)"
   ]
  },
  {
   "cell_type": "code",
   "execution_count": 44,
   "id": "39976ed4-754c-4f37-89b2-07ca5dc8a447",
   "metadata": {
    "execution": {
     "iopub.execute_input": "2022-12-09T04:40:42.325397Z",
     "iopub.status.busy": "2022-12-09T04:40:42.325041Z",
     "iopub.status.idle": "2022-12-09T04:41:07.670875Z",
     "shell.execute_reply": "2022-12-09T04:41:07.670163Z",
     "shell.execute_reply.started": "2022-12-09T04:40:42.325366Z"
    }
   },
   "outputs": [
    {
     "data": {
      "application/vnd.jupyter.widget-view+json": {
       "model_id": "46e91c034dd04877b61d639206e40dd4",
       "version_major": 2,
       "version_minor": 0
      },
      "text/plain": [
       "VBox()"
      ]
     },
     "metadata": {},
     "output_type": "display_data"
    },
    {
     "data": {
      "application/vnd.jupyter.widget-view+json": {
       "model_id": "",
       "version_major": 2,
       "version_minor": 0
      },
      "text/plain": [
       "FloatProgress(value=0.0, bar_style='info', description='Progress:', layout=Layout(height='25px', width='50%'),…"
      ]
     },
     "metadata": {},
     "output_type": "display_data"
    },
    {
     "name": "stdout",
     "output_type": "stream",
     "text": [
      "6990280"
     ]
    }
   ],
   "source": [
    "review_df.count()"
   ]
  },
  {
   "cell_type": "markdown",
   "id": "6f56f0e7-4769-4639-a09d-40f0b71c4a9f",
   "metadata": {},
   "source": [
    "# IDF, HASHINGTF, LOGISTIC REGESSRION"
   ]
  },
  {
   "cell_type": "code",
   "execution_count": 64,
   "id": "ff1cc608-5e36-4f77-9f47-180a1a5ea18d",
   "metadata": {
    "execution": {
     "iopub.execute_input": "2022-12-09T21:52:05.454963Z",
     "iopub.status.busy": "2022-12-09T21:52:05.454589Z",
     "iopub.status.idle": "2022-12-09T21:52:05.546758Z",
     "shell.execute_reply": "2022-12-09T21:52:05.545969Z",
     "shell.execute_reply.started": "2022-12-09T21:52:05.454908Z"
    },
    "tags": []
   },
   "outputs": [
    {
     "data": {
      "application/vnd.jupyter.widget-view+json": {
       "model_id": "c39dc812a441493fbd361dba697638c8",
       "version_major": 2,
       "version_minor": 0
      },
      "text/plain": [
       "VBox()"
      ]
     },
     "metadata": {},
     "output_type": "display_data"
    },
    {
     "data": {
      "application/vnd.jupyter.widget-view+json": {
       "model_id": "",
       "version_major": 2,
       "version_minor": 0
      },
      "text/plain": [
       "FloatProgress(value=0.0, bar_style='info', description='Progress:', layout=Layout(height='25px', width='50%'),…"
      ]
     },
     "metadata": {},
     "output_type": "display_data"
    }
   ],
   "source": [
    "(train_set, val_set, test_set) = review_df.randomSplit([0.98, 0.01, 0.01], seed = 2000)"
   ]
  },
  {
   "cell_type": "code",
   "execution_count": 65,
   "id": "8e41be5c-3859-4cd6-89fb-7b9ece69622e",
   "metadata": {
    "execution": {
     "iopub.execute_input": "2022-12-09T21:52:10.568271Z",
     "iopub.status.busy": "2022-12-09T21:52:10.568043Z",
     "iopub.status.idle": "2022-12-09T21:52:10.624830Z",
     "shell.execute_reply": "2022-12-09T21:52:10.624293Z",
     "shell.execute_reply.started": "2022-12-09T21:52:10.568247Z"
    },
    "tags": []
   },
   "outputs": [
    {
     "data": {
      "application/vnd.jupyter.widget-view+json": {
       "model_id": "a53ed47510854310ac365239394427f5",
       "version_major": 2,
       "version_minor": 0
      },
      "text/plain": [
       "VBox()"
      ]
     },
     "metadata": {},
     "output_type": "display_data"
    },
    {
     "data": {
      "application/vnd.jupyter.widget-view+json": {
       "model_id": "",
       "version_major": 2,
       "version_minor": 0
      },
      "text/plain": [
       "FloatProgress(value=0.0, bar_style='info', description='Progress:', layout=Layout(height='25px', width='50%'),…"
      ]
     },
     "metadata": {},
     "output_type": "display_data"
    }
   ],
   "source": [
    "from pyspark.ml.feature import Tokenizer, StopWordsRemover\n",
    "from pyspark.ml.feature import HashingTF, IDF, Tokenizer, CountVectorizer\n",
    "from pyspark.ml.feature import StringIndexer\n",
    "from pyspark.ml import Pipeline\n",
    "from pyspark.ml.classification import LogisticRegression\n",
    "from pyspark.ml.evaluation import BinaryClassificationEvaluator\n",
    "from pyspark.ml import Pipeline"
   ]
  },
  {
   "cell_type": "code",
   "execution_count": 66,
   "id": "4cecb19b-d73e-4d79-b2a5-d0bf899cb73c",
   "metadata": {
    "execution": {
     "iopub.execute_input": "2022-12-09T21:52:14.163881Z",
     "iopub.status.busy": "2022-12-09T21:52:14.163655Z",
     "iopub.status.idle": "2022-12-09T21:52:14.942637Z",
     "shell.execute_reply": "2022-12-09T21:52:14.941868Z",
     "shell.execute_reply.started": "2022-12-09T21:52:14.163856Z"
    },
    "tags": []
   },
   "outputs": [
    {
     "data": {
      "application/vnd.jupyter.widget-view+json": {
       "model_id": "b493b9af37584212ac27b98b5549b937",
       "version_major": 2,
       "version_minor": 0
      },
      "text/plain": [
       "VBox()"
      ]
     },
     "metadata": {},
     "output_type": "display_data"
    },
    {
     "data": {
      "application/vnd.jupyter.widget-view+json": {
       "model_id": "",
       "version_major": 2,
       "version_minor": 0
      },
      "text/plain": [
       "FloatProgress(value=0.0, bar_style='info', description='Progress:', layout=Layout(height='25px', width='50%'),…"
      ]
     },
     "metadata": {},
     "output_type": "display_data"
    },
    {
     "name": "stdout",
     "output_type": "stream",
     "text": [
      "+--------------------+--------------------+-----+--------------------+--------------------+\n",
      "|           review_id|                text|label|               words|      words_filtered|\n",
      "+--------------------+--------------------+-----+--------------------+--------------------+\n",
      "|KU_O5udG6zpxOg-Vc...|If you decide to ...|  0.0|[if, you, decide,...|[decide, eat, her...|\n",
      "|BiTunyQ73aT9WBnpR...|I've taken a lot ...|  1.0|[i've, taken, a, ...|[taken, lot, spin...|\n",
      "|saUsX_uimxRlCVr67...|Family diner. Had...|  0.0|[family, diner., ...|[family, diner., ...|\n",
      "|AqPFMleE6RsU23_au...|Wow!  Yummy, diff...|  1.0|[wow!, , yummy,, ...|[wow!, , yummy,, ...|\n",
      "|Sx8TMOWLNuJBWer-0...|Cute interior and...|  1.0|[cute, interior, ...|[cute, interior, ...|\n",
      "+--------------------+--------------------+-----+--------------------+--------------------+\n",
      "only showing top 5 rows"
     ]
    }
   ],
   "source": [
    "tokenizer = Tokenizer(inputCol=\"text\", outputCol=\"words\")\n",
    "words_tok = tokenizer.transform(review_df)\n",
    "\n",
    "remover = StopWordsRemover(inputCol=\"words\", outputCol=\"words_filtered\")\n",
    "filtered_words_df = remover.transform(words_tok)\n",
    "\n",
    "filtered_words_df.show(5)"
   ]
  },
  {
   "cell_type": "code",
   "execution_count": 67,
   "id": "3ba15b59-79d0-4bd3-ab4b-80c7ef5e1ea6",
   "metadata": {
    "execution": {
     "iopub.execute_input": "2022-12-09T21:52:21.032880Z",
     "iopub.status.busy": "2022-12-09T21:52:21.032646Z",
     "iopub.status.idle": "2022-12-09T21:54:48.756776Z",
     "shell.execute_reply": "2022-12-09T21:54:48.756046Z",
     "shell.execute_reply.started": "2022-12-09T21:52:21.032856Z"
    },
    "tags": []
   },
   "outputs": [
    {
     "data": {
      "application/vnd.jupyter.widget-view+json": {
       "model_id": "9eab37ef6cf644f5b215531b4cce9575",
       "version_major": 2,
       "version_minor": 0
      },
      "text/plain": [
       "VBox()"
      ]
     },
     "metadata": {},
     "output_type": "display_data"
    },
    {
     "data": {
      "application/vnd.jupyter.widget-view+json": {
       "model_id": "",
       "version_major": 2,
       "version_minor": 0
      },
      "text/plain": [
       "FloatProgress(value=0.0, bar_style='info', description='Progress:', layout=Layout(height='25px', width='50%'),…"
      ]
     },
     "metadata": {},
     "output_type": "display_data"
    },
    {
     "name": "stdout",
     "output_type": "stream",
     "text": [
      "+--------------------+--------------------+-----+--------------------+--------------------+--------------------+---------+\n",
      "|           review_id|                text|label|               words|                  tf|            features|sentinent|\n",
      "+--------------------+--------------------+-----+--------------------+--------------------+--------------------+---------+\n",
      "|--0HN389rkL6zLzqU...|I've been curious...|  0.0|[i've, been, curi...|(65536,[14,308,32...|(65536,[14,308,32...|      1.0|\n",
      "|--2z5bwg3PPrWnr9w...|This place is loc...|  1.0|[this, place, is,...|(65536,[14,1028,3...|(65536,[14,1028,3...|      0.0|\n",
      "|--46suwqJVAnei8ng...|I'm giving this W...|  0.0|[i'm, giving, thi...|(65536,[2245,2520...|(65536,[2245,2520...|      1.0|\n",
      "|--4LY9ofH7f6_SJyN...|Cousin's is the p...|  0.0|[cousin's, is, th...|(65536,[2406,3266...|(65536,[2406,3266...|      1.0|\n",
      "|--7X039CDFw_E_4gm...|Very delicious fo...|  1.0|[very, delicious,...|(65536,[9052,1268...|(65536,[9052,1268...|      0.0|\n",
      "+--------------------+--------------------+-----+--------------------+--------------------+--------------------+---------+\n",
      "only showing top 5 rows"
     ]
    }
   ],
   "source": [
    "hashtf = HashingTF(numFeatures=2**16, inputCol=\"words\", outputCol='tf')\n",
    "idf = IDF(inputCol='tf', outputCol=\"features\", minDocFreq=5) #minDocFreq: remove sparse terms\n",
    "label_stringIdx = StringIndexer(inputCol = \"label\", outputCol = \"sentinent\")\n",
    "pipeline = Pipeline(stages=[tokenizer, hashtf, idf, label_stringIdx])\n",
    "\n",
    "pipelineFit = pipeline.fit(train_set)\n",
    "train_df = pipelineFit.transform(train_set)\n",
    "val_df = pipelineFit.transform(val_set)\n",
    "train_df.show(5)\n"
   ]
  },
  {
   "cell_type": "code",
   "execution_count": 68,
   "id": "c0bc8891-2316-4b63-aae5-14da7bd4126c",
   "metadata": {
    "execution": {
     "iopub.execute_input": "2022-12-09T21:57:11.193158Z",
     "iopub.status.busy": "2022-12-09T21:57:11.192909Z",
     "iopub.status.idle": "2022-12-09T22:01:29.648685Z",
     "shell.execute_reply": "2022-12-09T22:01:29.648055Z",
     "shell.execute_reply.started": "2022-12-09T21:57:11.193129Z"
    },
    "tags": []
   },
   "outputs": [
    {
     "data": {
      "application/vnd.jupyter.widget-view+json": {
       "model_id": "20e259310ad9469191e5334f4055bd45",
       "version_major": 2,
       "version_minor": 0
      },
      "text/plain": [
       "VBox()"
      ]
     },
     "metadata": {},
     "output_type": "display_data"
    },
    {
     "data": {
      "application/vnd.jupyter.widget-view+json": {
       "model_id": "",
       "version_major": 2,
       "version_minor": 0
      },
      "text/plain": [
       "FloatProgress(value=0.0, bar_style='info', description='Progress:', layout=Layout(height='25px', width='50%'),…"
      ]
     },
     "metadata": {},
     "output_type": "display_data"
    }
   ],
   "source": [
    "\n",
    "lr = LogisticRegression(maxIter=100)\n",
    "lrModel = lr.fit(train_df)\n",
    "predictions = lrModel.transform(val_df)"
   ]
  },
  {
   "cell_type": "code",
   "execution_count": 51,
   "id": "fb53632d-a0f2-47a4-84ad-f8e3362f4773",
   "metadata": {
    "execution": {
     "iopub.execute_input": "2022-12-09T04:57:05.701906Z",
     "iopub.status.busy": "2022-12-09T04:57:05.701670Z",
     "iopub.status.idle": "2022-12-09T04:57:29.037754Z",
     "shell.execute_reply": "2022-12-09T04:57:29.037019Z",
     "shell.execute_reply.started": "2022-12-09T04:57:05.701881Z"
    }
   },
   "outputs": [
    {
     "data": {
      "application/vnd.jupyter.widget-view+json": {
       "model_id": "14ebe37e3e3b477db116551d40246c19",
       "version_major": 2,
       "version_minor": 0
      },
      "text/plain": [
       "VBox()"
      ]
     },
     "metadata": {},
     "output_type": "display_data"
    },
    {
     "data": {
      "application/vnd.jupyter.widget-view+json": {
       "model_id": "",
       "version_major": 2,
       "version_minor": 0
      },
      "text/plain": [
       "FloatProgress(value=0.0, bar_style='info', description='Progress:', layout=Layout(height='25px', width='50%'),…"
      ]
     },
     "metadata": {},
     "output_type": "display_data"
    },
    {
     "name": "stdout",
     "output_type": "stream",
     "text": [
      "0.9644837130084154"
     ]
    }
   ],
   "source": [
    "\n",
    "evaluator = BinaryClassificationEvaluator(rawPredictionCol=\"rawPrediction\")\n",
    "evaluator.evaluate(predictions)\n"
   ]
  },
  {
   "cell_type": "code",
   "execution_count": 69,
   "id": "3a5326f5-035c-4632-97c6-e67448c37591",
   "metadata": {
    "execution": {
     "iopub.execute_input": "2022-12-09T22:08:48.964601Z",
     "iopub.status.busy": "2022-12-09T22:08:48.964380Z",
     "iopub.status.idle": "2022-12-09T22:09:24.349771Z",
     "shell.execute_reply": "2022-12-09T22:09:24.348918Z",
     "shell.execute_reply.started": "2022-12-09T22:08:48.964577Z"
    },
    "tags": []
   },
   "outputs": [
    {
     "data": {
      "application/vnd.jupyter.widget-view+json": {
       "model_id": "8ca84acac9194cacad2a5c1d62a9a2d9",
       "version_major": 2,
       "version_minor": 0
      },
      "text/plain": [
       "VBox()"
      ]
     },
     "metadata": {},
     "output_type": "display_data"
    },
    {
     "data": {
      "application/vnd.jupyter.widget-view+json": {
       "model_id": "",
       "version_major": 2,
       "version_minor": 0
      },
      "text/plain": [
       "FloatProgress(value=0.0, bar_style='info', description='Progress:', layout=Layout(height='25px', width='50%'),…"
      ]
     },
     "metadata": {},
     "output_type": "display_data"
    },
    {
     "name": "stdout",
     "output_type": "stream",
     "text": [
      "0.9191343800541012"
     ]
    }
   ],
   "source": [
    "accuracy = predictions.filter(predictions.label == predictions.prediction).count() / float(val_set.count())\n",
    "accuracy"
   ]
  },
  {
   "cell_type": "markdown",
   "id": "103b3fdb-d919-4bb6-8818-b9656090f51d",
   "metadata": {},
   "source": [
    "# CountVectorizer + IDF + Logistic Regression"
   ]
  },
  {
   "cell_type": "code",
   "execution_count": 71,
   "id": "bb2bde24-1c52-4ec6-9ad4-ac5ea8573870",
   "metadata": {
    "execution": {
     "iopub.execute_input": "2022-12-09T22:27:01.555189Z",
     "iopub.status.busy": "2022-12-09T22:27:01.554957Z",
     "iopub.status.idle": "2022-12-09T22:36:55.629438Z",
     "shell.execute_reply": "2022-12-09T22:36:55.603608Z",
     "shell.execute_reply.started": "2022-12-09T22:27:01.555165Z"
    },
    "tags": []
   },
   "outputs": [
    {
     "data": {
      "application/vnd.jupyter.widget-view+json": {
       "model_id": "7698c8ed03a64cbab66828a809730415",
       "version_major": 2,
       "version_minor": 0
      },
      "text/plain": [
       "VBox()"
      ]
     },
     "metadata": {},
     "output_type": "display_data"
    },
    {
     "data": {
      "application/vnd.jupyter.widget-view+json": {
       "model_id": "",
       "version_major": 2,
       "version_minor": 0
      },
      "text/plain": [
       "FloatProgress(value=0.0, bar_style='info', description='Progress:', layout=Layout(height='25px', width='50%'),…"
      ]
     },
     "metadata": {},
     "output_type": "display_data"
    },
    {
     "name": "stdout",
     "output_type": "stream",
     "text": [
      "Accuracy Score: 0.9232\n",
      "ROC-AUC: 0.9675"
     ]
    }
   ],
   "source": [
    "\n",
    "cv = CountVectorizer(vocabSize=2**16, inputCol=\"words\", outputCol='cv')\n",
    "idf = IDF(inputCol='cv', outputCol=\"features\", minDocFreq=5) #minDocFreq: remove sparse terms\n",
    "lr = LogisticRegression(maxIter=100)\n",
    "pipeline = Pipeline(stages=[tokenizer, cv, idf,label_stringIdx, lr])\n",
    "\n",
    "pipelineFit = pipeline.fit(train_set)\n",
    "predictions = pipelineFit.transform(val_set)\n",
    "accuracy = predictions.filter(predictions.label == predictions.prediction).count() / float(val_set.count())\n",
    "evaluator = BinaryClassificationEvaluator(rawPredictionCol=\"rawPrediction\")\n",
    "roc_auc = evaluator.evaluate(predictions)\n",
    "\n",
    "print(\"Accuracy Score: {0:.4f}\".format(accuracy))\n",
    "print(\"ROC-AUC: {0:.4f}\".format(roc_auc))\n"
   ]
  },
  {
   "cell_type": "markdown",
   "id": "01ceb346-84b8-4f63-ad68-d10f7bd76a16",
   "metadata": {},
   "source": [
    "# Topic Modeling"
   ]
  },
  {
   "cell_type": "code",
   "execution_count": 78,
   "id": "b1c7765d-078a-44e8-b5bf-ffe69134c83e",
   "metadata": {
    "execution": {
     "iopub.execute_input": "2022-12-09T23:23:34.074463Z",
     "iopub.status.busy": "2022-12-09T23:23:34.074195Z",
     "iopub.status.idle": "2022-12-09T23:27:50.354328Z",
     "shell.execute_reply": "2022-12-09T23:27:50.353572Z",
     "shell.execute_reply.started": "2022-12-09T23:23:34.074438Z"
    },
    "tags": []
   },
   "outputs": [
    {
     "data": {
      "application/vnd.jupyter.widget-view+json": {
       "model_id": "4b31779e9e9941c498be83f4daaa3e0a",
       "version_major": 2,
       "version_minor": 0
      },
      "text/plain": [
       "VBox()"
      ]
     },
     "metadata": {},
     "output_type": "display_data"
    },
    {
     "data": {
      "application/vnd.jupyter.widget-view+json": {
       "model_id": "",
       "version_major": 2,
       "version_minor": 0
      },
      "text/plain": [
       "FloatProgress(value=0.0, bar_style='info', description='Progress:', layout=Layout(height='25px', width='50%'),…"
      ]
     },
     "metadata": {},
     "output_type": "display_data"
    },
    {
     "name": "stdout",
     "output_type": "stream",
     "text": [
      "+--------------------+--------------------+-----+--------------------+--------------------+--------------------+--------------------+\n",
      "|           review_id|                text|label|               words|      words_filtered|                  cv|            features|\n",
      "+--------------------+--------------------+-----+--------------------+--------------------+--------------------+--------------------+\n",
      "|KU_O5udG6zpxOg-Vc...|If you decide to ...|  0.0|[if, you, decide,...|[decide, eat, her...|(65536,[0,1,2,3,4...|(65536,[0,1,2,3,4...|\n",
      "|BiTunyQ73aT9WBnpR...|I've taken a lot ...|  1.0|[i've, taken, a, ...|[taken, lot, spin...|(65536,[0,1,2,3,4...|(65536,[0,1,2,3,4...|\n",
      "|saUsX_uimxRlCVr67...|Family diner. Had...|  0.0|[family, diner., ...|[family, diner., ...|(65536,[0,4,5,7,9...|(65536,[0,4,5,7,9...|\n",
      "|AqPFMleE6RsU23_au...|Wow!  Yummy, diff...|  1.0|[wow!, , yummy,, ...|[wow!, , yummy,, ...|(65536,[0,1,2,7,8...|(65536,[0,1,2,7,8...|\n",
      "|Sx8TMOWLNuJBWer-0...|Cute interior and...|  1.0|[cute, interior, ...|[cute, interior, ...|(65536,[0,1,3,5,7...|(65536,[0,1,3,5,7...|\n",
      "+--------------------+--------------------+-----+--------------------+--------------------+--------------------+--------------------+\n",
      "only showing top 5 rows"
     ]
    }
   ],
   "source": [
    "#count vectorization create an index for each word and count how many times a word occured in total \n",
    "cv = CountVectorizer(vocabSize=2**16, inputCol=\"words\", outputCol='cv')\n",
    "\n",
    "cv_model = cv.fit(filtered_words_df) \n",
    "vectorize_token = cv_model.transform(filtered_words_df) \n",
    "idf = IDF(inputCol='cv', outputCol=\"features\", minDocFreq=5)\n",
    "idf_model = idf.fit(vectorize_token)\n",
    "tfidf_result = idf_model.transform(vectorize_token)\n",
    "tfidf_result.show(5) "
   ]
  },
  {
   "cell_type": "code",
   "execution_count": 80,
   "id": "e8e469c0-0709-40ba-8f67-3572df617c11",
   "metadata": {
    "execution": {
     "iopub.execute_input": "2022-12-09T23:30:53.302238Z",
     "iopub.status.busy": "2022-12-09T23:30:53.302011Z",
     "iopub.status.idle": "2022-12-10T00:03:18.542443Z",
     "shell.execute_reply": "2022-12-10T00:03:18.541771Z",
     "shell.execute_reply.started": "2022-12-09T23:30:53.302213Z"
    },
    "tags": []
   },
   "outputs": [
    {
     "data": {
      "application/vnd.jupyter.widget-view+json": {
       "model_id": "14def4f8445a4a789f74444cc5262368",
       "version_major": 2,
       "version_minor": 0
      },
      "text/plain": [
       "VBox()"
      ]
     },
     "metadata": {},
     "output_type": "display_data"
    },
    {
     "data": {
      "application/vnd.jupyter.widget-view+json": {
       "model_id": "",
       "version_major": 2,
       "version_minor": 0
      },
      "text/plain": [
       "FloatProgress(value=0.0, bar_style='info', description='Progress:', layout=Layout(height='25px', width='50%'),…"
      ]
     },
     "metadata": {},
     "output_type": "display_data"
    }
   ],
   "source": [
    "from pyspark.ml.clustering import LDA \n",
    "num_topics = 6\n",
    "max_iter = 10\n",
    "\n",
    "lda = LDA(k=num_topics, maxIter=max_iter, featuresCol='features')\n",
    "lda_model = lda.fit(tfidf_result)\n",
    "     "
   ]
  },
  {
   "cell_type": "code",
   "execution_count": 84,
   "id": "5c90e692-cd1b-494a-b36f-9738cb84b49c",
   "metadata": {
    "execution": {
     "iopub.execute_input": "2022-12-10T00:07:54.606779Z",
     "iopub.status.busy": "2022-12-10T00:07:54.606540Z",
     "iopub.status.idle": "2022-12-10T00:07:54.866522Z",
     "shell.execute_reply": "2022-12-10T00:07:54.865871Z",
     "shell.execute_reply.started": "2022-12-10T00:07:54.606753Z"
    },
    "tags": []
   },
   "outputs": [
    {
     "data": {
      "application/vnd.jupyter.widget-view+json": {
       "model_id": "2c77a2fbe6db4f3d98f390feb6ab610d",
       "version_major": 2,
       "version_minor": 0
      },
      "text/plain": [
       "VBox()"
      ]
     },
     "metadata": {},
     "output_type": "display_data"
    },
    {
     "data": {
      "application/vnd.jupyter.widget-view+json": {
       "model_id": "",
       "version_major": 2,
       "version_minor": 0
      },
      "text/plain": [
       "FloatProgress(value=0.0, bar_style='info', description='Progress:', layout=Layout(height='25px', width='50%'),…"
      ]
     },
     "metadata": {},
     "output_type": "display_data"
    }
   ],
   "source": [
    "from pyspark.sql import types as T\n",
    "vocab = cv_model.vocabulary\n",
    "\n",
    "def get_words(token_list):\n",
    "     return [vocab[token_id] for token_id in token_list]\n",
    "       \n",
    "udf_to_words = F.udf(get_words, T.ArrayType(T.StringType()))\n",
    "     "
   ]
  },
  {
   "cell_type": "code",
   "execution_count": 85,
   "id": "889a3992-a209-4adb-a8fd-42c346beae7a",
   "metadata": {
    "execution": {
     "iopub.execute_input": "2022-12-10T00:07:57.538219Z",
     "iopub.status.busy": "2022-12-10T00:07:57.538001Z",
     "iopub.status.idle": "2022-12-10T00:08:36.923790Z",
     "shell.execute_reply": "2022-12-10T00:08:36.923185Z",
     "shell.execute_reply.started": "2022-12-10T00:07:57.538195Z"
    }
   },
   "outputs": [
    {
     "data": {
      "application/vnd.jupyter.widget-view+json": {
       "model_id": "03c7faf85e44491895d4fab8b209e453",
       "version_major": 2,
       "version_minor": 0
      },
      "text/plain": [
       "VBox()"
      ]
     },
     "metadata": {},
     "output_type": "display_data"
    },
    {
     "data": {
      "application/vnd.jupyter.widget-view+json": {
       "model_id": "",
       "version_major": 2,
       "version_minor": 0
      },
      "text/plain": [
       "FloatProgress(value=0.0, bar_style='info', description='Progress:', layout=Layout(height='25px', width='50%'),…"
      ]
     },
     "metadata": {},
     "output_type": "display_data"
    },
    {
     "name": "stdout",
     "output_type": "stream",
     "text": [
      "+-----+--------------------------------------------+\n",
      "|topic|                                  topicWords|\n",
      "+-----+--------------------------------------------+\n",
      "|    0|[, we, was, were, it, i, had, our, with, of]|\n",
      "|    1|   [, he, i, my, me, to, we, was, they, she]|\n",
      "|    2| [, great, is, we, my, i, you, was, of, are]|\n",
      "|    3|[, i, we, to, that, she, not, they, was, he]|\n",
      "|    4| [, you, i, is, that, to, of, are, have, in]|\n",
      "|    5| [, is, you, of, are, i, but, it, was, food]|\n",
      "+-----+--------------------------------------------+"
     ]
    }
   ],
   "source": [
    "num_top_words = 10\n",
    "\n",
    "topics = lda_model.describeTopics(num_top_words).withColumn('topicWords', udf_to_words(F.col('termIndices')))\n",
    "topics.select('topic', 'topicWords').show(truncate=90)"
   ]
  },
  {
   "cell_type": "markdown",
   "id": "e12416bb-6092-430f-b2fc-d55a50c5f33b",
   "metadata": {},
   "source": [
    "# Data Visualization "
   ]
  },
  {
   "cell_type": "code",
   "execution_count": 86,
   "id": "5bb0d5a2-8bc3-4cd9-b4cd-2e1e0aebe760",
   "metadata": {
    "execution": {
     "iopub.execute_input": "2022-12-10T00:13:25.150932Z",
     "iopub.status.busy": "2022-12-10T00:13:25.150561Z",
     "iopub.status.idle": "2022-12-10T00:13:32.455182Z",
     "shell.execute_reply": "2022-12-10T00:13:32.454508Z",
     "shell.execute_reply.started": "2022-12-10T00:13:25.150889Z"
    },
    "tags": []
   },
   "outputs": [
    {
     "data": {
      "application/vnd.jupyter.widget-view+json": {
       "model_id": "534500df3e7c4097a4d6a26372d79709",
       "version_major": 2,
       "version_minor": 0
      },
      "text/plain": [
       "VBox()"
      ]
     },
     "metadata": {},
     "output_type": "display_data"
    },
    {
     "data": {
      "application/vnd.jupyter.widget-view+json": {
       "model_id": "",
       "version_major": 2,
       "version_minor": 0
      },
      "text/plain": [
       "FloatProgress(value=0.0, bar_style='info', description='Progress:', layout=Layout(height='25px', width='50%'),…"
      ]
     },
     "metadata": {},
     "output_type": "display_data"
    },
    {
     "name": "stdout",
     "output_type": "stream",
     "text": [
      "+--------------------+--------------------+-----+--------------------+--------------------+\n",
      "|           review_id|                text|label|               words|      words_filtered|\n",
      "+--------------------+--------------------+-----+--------------------+--------------------+\n",
      "|KU_O5udG6zpxOg-Vc...|If you decide to ...|  0.0|[if, you, decide,...|[decide, eat, her...|\n",
      "|BiTunyQ73aT9WBnpR...|I've taken a lot ...|  1.0|[i've, taken, a, ...|[taken, lot, spin...|\n",
      "|saUsX_uimxRlCVr67...|Family diner. Had...|  0.0|[family, diner., ...|[family, diner., ...|\n",
      "|AqPFMleE6RsU23_au...|Wow!  Yummy, diff...|  1.0|[wow!, , yummy,, ...|[wow!, , yummy,, ...|\n",
      "|Sx8TMOWLNuJBWer-0...|Cute interior and...|  1.0|[cute, interior, ...|[cute, interior, ...|\n",
      "+--------------------+--------------------+-----+--------------------+--------------------+\n",
      "only showing top 5 rows"
     ]
    }
   ],
   "source": [
    "filtered_words_df.show(5)"
   ]
  },
  {
   "cell_type": "code",
   "execution_count": 94,
   "id": "3516919f-68e8-4341-8c88-1fb25eaf976e",
   "metadata": {
    "execution": {
     "iopub.execute_input": "2022-12-10T00:25:04.307905Z",
     "iopub.status.busy": "2022-12-10T00:25:04.307548Z",
     "iopub.status.idle": "2022-12-10T00:25:37.676539Z",
     "shell.execute_reply": "2022-12-10T00:25:37.675790Z",
     "shell.execute_reply.started": "2022-12-10T00:25:04.307864Z"
    },
    "tags": []
   },
   "outputs": [
    {
     "data": {
      "application/vnd.jupyter.widget-view+json": {
       "model_id": "f6179cb157e1454f8f5f9f4b822fe461",
       "version_major": 2,
       "version_minor": 0
      },
      "text/plain": [
       "VBox()"
      ]
     },
     "metadata": {},
     "output_type": "display_data"
    },
    {
     "data": {
      "application/vnd.jupyter.widget-view+json": {
       "model_id": "",
       "version_major": 2,
       "version_minor": 0
      },
      "text/plain": [
       "FloatProgress(value=0.0, bar_style='info', description='Progress:', layout=Layout(height='25px', width='50%'),…"
      ]
     },
     "metadata": {},
     "output_type": "display_data"
    },
    {
     "name": "stdout",
     "output_type": "stream",
     "text": [
      "+-----+-------+\n",
      "|label|  count|\n",
      "+-----+-------+\n",
      "|  1.0|4684545|\n",
      "|  0.0|2305735|\n",
      "+-----+-------+"
     ]
    }
   ],
   "source": [
    "from pyspark.sql.functions import count, col\n",
    "ords_df=filtered_words_df.groupBy(\"label\")\n",
    "new_df = ords_df.count() \n",
    "new_df.show()\n"
   ]
  },
  {
   "cell_type": "code",
   "execution_count": 139,
   "id": "c2fa65bb-fe66-4edc-bfeb-0527a7741818",
   "metadata": {
    "execution": {
     "iopub.execute_input": "2022-12-10T01:09:23.113099Z",
     "iopub.status.busy": "2022-12-10T01:09:23.112886Z",
     "iopub.status.idle": "2022-12-10T01:09:30.399896Z",
     "shell.execute_reply": "2022-12-10T01:09:30.399278Z",
     "shell.execute_reply.started": "2022-12-10T01:09:23.113077Z"
    },
    "tags": []
   },
   "outputs": [
    {
     "data": {
      "application/vnd.jupyter.widget-view+json": {
       "model_id": "e7c5ddc9b2544a159f861ee45fa89913",
       "version_major": 2,
       "version_minor": 0
      },
      "text/plain": [
       "VBox()"
      ]
     },
     "metadata": {},
     "output_type": "display_data"
    },
    {
     "data": {
      "application/vnd.jupyter.widget-view+json": {
       "model_id": "",
       "version_major": 2,
       "version_minor": 0
      },
      "text/plain": [
       "FloatProgress(value=0.0, bar_style='info', description='Progress:', layout=Layout(height='25px', width='50%'),…"
      ]
     },
     "metadata": {},
     "output_type": "display_data"
    },
    {
     "name": "stdout",
     "output_type": "stream",
     "text": [
      "   label    count\n",
      "0    1.0  4684545\n",
      "1    0.0  2305735"
     ]
    }
   ],
   "source": [
    "pie = new_df.toPandas()\n",
    "pie"
   ]
  },
  {
   "cell_type": "code",
   "execution_count": 143,
   "id": "f560f163-0ec8-45b5-99df-924abea12ada",
   "metadata": {
    "execution": {
     "iopub.execute_input": "2022-12-10T01:11:03.518521Z",
     "iopub.status.busy": "2022-12-10T01:11:03.518292Z",
     "iopub.status.idle": "2022-12-10T01:11:03.580354Z",
     "shell.execute_reply": "2022-12-10T01:11:03.579851Z",
     "shell.execute_reply.started": "2022-12-10T01:11:03.518494Z"
    },
    "tags": []
   },
   "outputs": [
    {
     "data": {
      "application/vnd.jupyter.widget-view+json": {
       "model_id": "a9e16524c7ab4cb198f6514e7d698259",
       "version_major": 2,
       "version_minor": 0
      },
      "text/plain": [
       "VBox()"
      ]
     },
     "metadata": {},
     "output_type": "display_data"
    },
    {
     "data": {
      "application/vnd.jupyter.widget-view+json": {
       "model_id": "",
       "version_major": 2,
       "version_minor": 0
      },
      "text/plain": [
       "FloatProgress(value=0.0, bar_style='info', description='Progress:', layout=Layout(height='25px', width='50%'),…"
      ]
     },
     "metadata": {},
     "output_type": "display_data"
    },
    {
     "name": "stdout",
     "output_type": "stream",
     "text": [
      "      label    count\n",
      "0  Positive  4684545\n",
      "1  Negative  2305735"
     ]
    }
   ],
   "source": [
    "pie1 = pie.replace({'label' : {0.0 : 'Negative', 1.0 : 'Positive'}})\n",
    "pie1"
   ]
  },
  {
   "cell_type": "code",
   "execution_count": 144,
   "id": "ceb7a31b-2676-4b31-95b1-40e4bb6af097",
   "metadata": {
    "execution": {
     "iopub.execute_input": "2022-12-10T01:11:24.366056Z",
     "iopub.status.busy": "2022-12-10T01:11:24.365844Z",
     "iopub.status.idle": "2022-12-10T01:11:24.650350Z",
     "shell.execute_reply": "2022-12-10T01:11:24.649646Z",
     "shell.execute_reply.started": "2022-12-10T01:11:24.366033Z"
    },
    "tags": []
   },
   "outputs": [
    {
     "data": {
      "application/vnd.jupyter.widget-view+json": {
       "model_id": "68f7738e918c4a0fad0b8d758949d047",
       "version_major": 2,
       "version_minor": 0
      },
      "text/plain": [
       "VBox()"
      ]
     },
     "metadata": {},
     "output_type": "display_data"
    },
    {
     "data": {
      "application/vnd.jupyter.widget-view+json": {
       "model_id": "",
       "version_major": 2,
       "version_minor": 0
      },
      "text/plain": [
       "FloatProgress(value=0.0, bar_style='info', description='Progress:', layout=Layout(height='25px', width='50%'),…"
      ]
     },
     "metadata": {},
     "output_type": "display_data"
    },
    {
     "data": {
      "image/png": "[encoded data removed]",
      "text/plain": [
       "<IPython.core.display.Image object>"
      ]
     },
     "metadata": {},
     "output_type": "display_data"
    }
   ],
   "source": [
    "pie1.plot(kind='bar')\n",
    "%matplot plt"
   ]
  },
  {
   "cell_type": "code",
   "execution_count": 162,
   "id": "72cb663c-7a7b-470c-ad15-1f62df83d38a",
   "metadata": {
    "execution": {
     "iopub.execute_input": "2022-12-10T01:51:02.998221Z",
     "iopub.status.busy": "2022-12-10T01:51:02.997999Z",
     "iopub.status.idle": "2022-12-10T01:51:03.037727Z",
     "shell.execute_reply": "2022-12-10T01:51:03.036959Z",
     "shell.execute_reply.started": "2022-12-10T01:51:02.998197Z"
    },
    "tags": []
   },
   "outputs": [
    {
     "data": {
      "application/vnd.jupyter.widget-view+json": {
       "model_id": "349b45ab86f640fda1aee314601f8def",
       "version_major": 2,
       "version_minor": 0
      },
      "text/plain": [
       "VBox()"
      ]
     },
     "metadata": {},
     "output_type": "display_data"
    },
    {
     "name": "stderr",
     "output_type": "stream",
     "text": [
      "An error was encountered:\n",
      "Session 0 unexpectedly reached final status 'error'. See logs:\n",
      "stdout: \n",
      "\n",
      "stderr: \n",
      "22/12/10 01:42:37 INFO ExecutorAllocationManager: Requesting 1 new executor because tasks are backlogged (new desired total will be 1)\n",
      "22/12/10 01:42:38 INFO ExecutorAllocationManager: Requesting 2 new executors because tasks are backlogged (new desired total will be 3)\n",
      "22/12/10 01:42:39 INFO ExecutorAllocationManager: Requesting 4 new executors because tasks are backlogged (new desired total will be 7)\n",
      "22/12/10 01:42:40 INFO YarnSchedulerBackend$YarnDriverEndpoint: Registered executor NettyRpcEndpointRef(spark-client://Executor) (172.31.15.141:42512) with ID 34\n",
      "22/12/10 01:42:40 INFO ExecutorAllocationManager: New executor 34 has registered (new total is 1)\n",
      "22/12/10 01:42:40 INFO TaskSetManager: Starting task 0.0 in stage 723.0 (TID 14940, ip-172-31-15-141.us-east-2.compute.internal, executor 34, partition 0, RACK_LOCAL, 8592 bytes)\n",
      "22/12/10 01:42:40 INFO TaskSetManager: Starting task 1.0 in stage 723.0 (TID 14941, ip-172-31-15-141.us-east-2.compute.internal, executor 34, partition 1, RACK_LOCAL, 8592 bytes)\n",
      "22/12/10 01:42:40 INFO TaskSetManager: Starting task 2.0 in stage 723.0 (TID 14942, ip-172-31-15-141.us-east-2.compute.internal, executor 34, partition 2, RACK_LOCAL, 8592 bytes)\n",
      "22/12/10 01:42:40 INFO TaskSetManager: Starting task 3.0 in stage 723.0 (TID 14943, ip-172-31-15-141.us-east-2.compute.internal, executor 34, partition 3, RACK_LOCAL, 8592 bytes)\n",
      "22/12/10 01:42:40 INFO BlockManagerMasterEndpoint: Registering block manager ip-172-31-15-141.us-east-2.compute.internal:36381 with 4.8 GB RAM, BlockManagerId(34, ip-172-31-15-141.us-east-2.compute.internal, 36381, None)\n",
      "22/12/10 01:42:40 INFO ExecutorAllocationManager: Requesting 3 new executors because tasks are backlogged (new desired total will be 10)\n",
      "22/12/10 01:42:40 INFO BlockManagerInfo: Added broadcast_1051_piece0 in memory on ip-172-31-15-141.us-east-2.compute.internal:36381 (size: 5.5 KB, free: 4.8 GB)\n",
      "22/12/10 01:42:41 INFO BlockManagerInfo: Added broadcast_1050_piece0 in memory on ip-172-31-15-141.us-east-2.compute.internal:36381 (size: 33.9 KB, free: 4.8 GB)\n",
      "22/12/10 01:42:47 INFO BlockManagerInfo: Added taskresult_14941 in memory on ip-172-31-15-141.us-east-2.compute.internal:36381 (size: 1100.3 KB, free: 4.8 GB)\n",
      "22/12/10 01:42:47 INFO TaskSetManager: Starting task 4.0 in stage 723.0 (TID 14944, ip-172-31-15-141.us-east-2.compute.internal, executor 34, partition 4, RACK_LOCAL, 8592 bytes)\n",
      "22/12/10 01:42:47 INFO TransportClientFactory: Successfully created connection to ip-172-31-15-141.us-east-2.compute.internal/172.31.15.141:36381 after 1 ms (0 ms spent in bootstraps)\n",
      "22/12/10 01:42:47 INFO TaskSetManager: Finished task 1.0 in stage 723.0 (TID 14941) in 7182 ms on ip-172-31-15-141.us-east-2.compute.internal (executor 34) (1/40)\n",
      "22/12/10 01:42:47 INFO BlockManagerInfo: Removed taskresult_14941 on ip-172-31-15-141.us-east-2.compute.internal:36381 in memory (size: 1100.3 KB, free: 4.8 GB)\n",
      "22/12/10 01:42:47 INFO BlockManagerInfo: Added taskresult_14943 in memory on ip-172-31-15-141.us-east-2.compute.internal:36381 (size: 1139.2 KB, free: 4.8 GB)\n",
      "22/12/10 01:42:47 INFO BlockManagerInfo: Added taskresult_14940 in memory on ip-172-31-15-141.us-east-2.compute.internal:36381 (size: 1093.8 KB, free: 4.8 GB)\n",
      "22/12/10 01:42:47 INFO TaskSetManager: Starting task 5.0 in stage 723.0 (TID 14945, ip-172-31-15-141.us-east-2.compute.internal, executor 34, partition 5, RACK_LOCAL, 8592 bytes)\n",
      "22/12/10 01:42:47 INFO TaskSetManager: Finished task 0.0 in stage 723.0 (TID 14940) in 7361 ms on ip-172-31-15-141.us-east-2.compute.internal (executor 34) (2/40)\n",
      "22/12/10 01:42:47 INFO BlockManagerInfo: Added taskresult_14942 in memory on ip-172-31-15-141.us-east-2.compute.internal:36381 (size: 1133.5 KB, free: 4.8 GB)\n",
      "22/12/10 01:42:47 INFO TaskSetManager: Starting task 6.0 in stage 723.0 (TID 14946, ip-172-31-15-141.us-east-2.compute.internal, executor 34, partition 6, RACK_LOCAL, 8592 bytes)\n",
      "22/12/10 01:42:47 INFO BlockManagerInfo: Removed taskresult_14940 on ip-172-31-15-141.us-east-2.compute.internal:36381 in memory (size: 1093.8 KB, free: 4.8 GB)\n",
      "22/12/10 01:42:47 INFO TaskSetManager: Finished task 3.0 in stage 723.0 (TID 14943) in 7373 ms on ip-172-31-15-141.us-east-2.compute.internal (executor 34) (3/40)\n",
      "22/12/10 01:42:47 INFO TaskSetManager: Starting task 7.0 in stage 723.0 (TID 14947, ip-172-31-15-141.us-east-2.compute.internal, executor 34, partition 7, RACK_LOCAL, 8592 bytes)\n",
      "22/12/10 01:42:47 INFO TaskSetManager: Finished task 2.0 in stage 723.0 (TID 14942) in 7384 ms on ip-172-31-15-141.us-east-2.compute.internal (executor 34) (4/40)\n",
      "22/12/10 01:42:47 INFO BlockManagerInfo: Removed taskresult_14943 on ip-172-31-15-141.us-east-2.compute.internal:36381 in memory (size: 1139.2 KB, free: 4.8 GB)\n",
      "22/12/10 01:42:47 INFO BlockManagerInfo: Removed taskresult_14942 on ip-172-31-15-141.us-east-2.compute.internal:36381 in memory (size: 1133.5 KB, free: 4.8 GB)\n",
      "22/12/10 01:42:50 INFO BlockManagerInfo: Added taskresult_14944 in memory on ip-172-31-15-141.us-east-2.compute.internal:36381 (size: 1101.8 KB, free: 4.8 GB)\n",
      "22/12/10 01:42:50 INFO TaskSetManager: Starting task 8.0 in stage 723.0 (TID 14948, ip-172-31-15-141.us-east-2.compute.internal, executor 34, partition 8, RACK_LOCAL, 8592 bytes)\n",
      "22/12/10 01:42:50 INFO TaskSetManager: Finished task 4.0 in stage 723.0 (TID 14944) in 3294 ms on ip-172-31-15-141.us-east-2.compute.internal (executor 34) (5/40)\n",
      "22/12/10 01:42:50 INFO BlockManagerInfo: Removed taskresult_14944 on ip-172-31-15-141.us-east-2.compute.internal:36381 in memory (size: 1101.8 KB, free: 4.8 GB)\n",
      "22/12/10 01:42:51 INFO BlockManagerInfo: Added taskresult_14945 in memory on ip-172-31-15-141.us-east-2.compute.internal:36381 (size: 1096.2 KB, free: 4.8 GB)\n",
      "22/12/10 01:42:51 INFO TaskSetManager: Starting task 9.0 in stage 723.0 (TID 14949, ip-172-31-15-141.us-east-2.compute.internal, executor 34, partition 9, RACK_LOCAL, 8592 bytes)\n",
      "22/12/10 01:42:51 INFO TaskSetManager: Finished task 5.0 in stage 723.0 (TID 14945) in 3533 ms on ip-172-31-15-141.us-east-2.compute.internal (executor 34) (6/40)\n",
      "22/12/10 01:42:51 INFO BlockManagerInfo: Removed taskresult_14945 on ip-172-31-15-141.us-east-2.compute.internal:36381 in memory (size: 1096.2 KB, free: 4.8 GB)\n",
      "22/12/10 01:42:51 INFO BlockManagerInfo: Added taskresult_14947 in memory on ip-172-31-15-141.us-east-2.compute.internal:36381 (size: 1143.4 KB, free: 4.8 GB)\n",
      "22/12/10 01:42:51 INFO TaskSetManager: Starting task 10.0 in stage 723.0 (TID 14950, ip-172-31-15-141.us-east-2.compute.internal, executor 34, partition 10, RACK_LOCAL, 8592 bytes)\n",
      "22/12/10 01:42:51 INFO TaskSetManager: Finished task 7.0 in stage 723.0 (TID 14947) in 3547 ms on ip-172-31-15-141.us-east-2.compute.internal (executor 34) (7/40)\n",
      "22/12/10 01:42:51 INFO BlockManagerInfo: Removed taskresult_14947 on ip-172-31-15-141.us-east-2.compute.internal:36381 in memory (size: 1143.4 KB, free: 4.8 GB)\n",
      "22/12/10 01:42:51 INFO BlockManagerInfo: Added taskresult_14946 in memory on ip-172-31-15-141.us-east-2.compute.internal:36381 (size: 1139.1 KB, free: 4.8 GB)\n",
      "22/12/10 01:42:51 INFO TaskSetManager: Starting task 11.0 in stage 723.0 (TID 14951, ip-172-31-15-141.us-east-2.compute.internal, executor 34, partition 11, RACK_LOCAL, 8592 bytes)\n",
      "22/12/10 01:42:51 INFO TaskSetManager: Finished task 6.0 in stage 723.0 (TID 14946) in 3923 ms on ip-172-31-15-141.us-east-2.compute.internal (executor 34) (8/40)\n",
      "22/12/10 01:42:51 INFO BlockManagerInfo: Removed taskresult_14946 on ip-172-31-15-141.us-east-2.compute.internal:36381 in memory (size: 1139.1 KB, free: 4.8 GB)\n",
      "22/12/10 01:42:54 INFO BlockManagerInfo: Added taskresult_14948 in memory on ip-172-31-15-141.us-east-2.compute.internal:36381 (size: 1103.0 KB, free: 4.8 GB)\n",
      "22/12/10 01:42:54 INFO TaskSetManager: Starting task 12.0 in stage 723.0 (TID 14952, ip-172-31-15-141.us-east-2.compute.internal, executor 34, partition 12, RACK_LOCAL, 8592 bytes)\n",
      "22/12/10 01:42:54 INFO TaskSetManager: Finished task 8.0 in stage 723.0 (TID 14948) in 3647 ms on ip-172-31-15-141.us-east-2.compute.internal (executor 34) (9/40)\n",
      "22/12/10 01:42:54 INFO BlockManagerInfo: Removed taskresult_14948 on ip-172-31-15-141.us-east-2.compute.internal:36381 in memory (size: 1103.0 KB, free: 4.8 GB)\n",
      "22/12/10 01:42:55 INFO BlockManagerInfo: Added taskresult_14949 in memory on ip-172-31-15-141.us-east-2.compute.internal:36381 (size: 1097.5 KB, free: 4.8 GB)\n",
      "22/12/10 01:42:55 INFO TaskSetManager: Starting task 13.0 in stage 723.0 (TID 14953, ip-172-31-15-141.us-east-2.compute.internal, executor 34, partition 13, RACK_LOCAL, 8592 bytes)\n",
      "22/12/10 01:42:55 INFO TaskSetManager: Finished task 9.0 in stage 723.0 (TID 14949) in 3731 ms on ip-172-31-15-141.us-east-2.compute.internal (executor 34) (10/40)\n",
      "22/12/10 01:42:55 INFO BlockManagerInfo: Removed taskresult_14949 on ip-172-31-15-141.us-east-2.compute.internal:36381 in memory (size: 1097.5 KB, free: 4.8 GB)\n",
      "22/12/10 01:42:55 INFO BlockManagerInfo: Added taskresult_14951 in memory on ip-172-31-15-141.us-east-2.compute.internal:36381 (size: 1151.2 KB, free: 4.8 GB)\n",
      "22/12/10 01:42:55 INFO TaskSetManager: Starting task 14.0 in stage 723.0 (TID 14954, ip-172-31-15-141.us-east-2.compute.internal, executor 34, partition 14, RACK_LOCAL, 8592 bytes)\n",
      "22/12/10 01:42:55 INFO TaskSetManager: Finished task 11.0 in stage 723.0 (TID 14951) in 3360 ms on ip-172-31-15-141.us-east-2.compute.internal (executor 34) (11/40)\n",
      "22/12/10 01:42:55 INFO BlockManagerInfo: Removed taskresult_14951 on ip-172-31-15-141.us-east-2.compute.internal:36381 in memory (size: 1151.2 KB, free: 4.8 GB)\n",
      "22/12/10 01:42:55 INFO BlockManagerInfo: Added taskresult_14950 in memory on ip-172-31-15-141.us-east-2.compute.internal:36381 (size: 1129.5 KB, free: 4.8 GB)\n",
      "22/12/10 01:42:55 INFO TaskSetManager: Starting task 15.0 in stage 723.0 (TID 14955, ip-172-31-15-141.us-east-2.compute.internal, executor 34, partition 15, RACK_LOCAL, 8592 bytes)\n",
      "22/12/10 01:42:55 INFO TaskSetManager: Finished task 10.0 in stage 723.0 (TID 14950) in 3767 ms on ip-172-31-15-141.us-east-2.compute.internal (executor 34) (12/40)\n",
      "22/12/10 01:42:55 INFO BlockManagerInfo: Removed taskresult_14950 on ip-172-31-15-141.us-east-2.compute.internal:36381 in memory (size: 1129.5 KB, free: 4.8 GB)\n",
      "22/12/10 01:42:57 INFO BlockManagerInfo: Added taskresult_14952 in memory on ip-172-31-15-141.us-east-2.compute.internal:36381 (size: 1105.8 KB, free: 4.8 GB)\n",
      "22/12/10 01:42:57 INFO TaskSetManager: Starting task 16.0 in stage 723.0 (TID 14956, ip-172-31-15-141.us-east-2.compute.internal, executor 34, partition 16, RACK_LOCAL, 8592 bytes)\n",
      "22/12/10 01:42:57 INFO TaskSetManager: Finished task 12.0 in stage 723.0 (TID 14952) in 3413 ms on ip-172-31-15-141.us-east-2.compute.internal (executor 34) (13/40)\n",
      "22/12/10 01:42:57 INFO BlockManagerInfo: Removed taskresult_14952 on ip-172-31-15-141.us-east-2.compute.internal:36381 in memory (size: 1105.8 KB, free: 4.8 GB)\n",
      "22/12/10 01:42:58 INFO BlockManagerInfo: Added taskresult_14954 in memory on ip-172-31-15-141.us-east-2.compute.internal:36381 (size: 1138.4 KB, free: 4.8 GB)\n",
      "22/12/10 01:42:58 INFO TaskSetManager: Starting task 17.0 in stage 723.0 (TID 14957, ip-172-31-15-141.us-east-2.compute.internal, executor 34, partition 17, RACK_LOCAL, 8592 bytes)\n",
      "22/12/10 01:42:58 INFO TaskSetManager: Finished task 14.0 in stage 723.0 (TID 14954) in 3252 ms on ip-172-31-15-141.us-east-2.compute.internal (executor 34) (14/40)\n",
      "22/12/10 01:42:58 INFO BlockManagerInfo: Removed taskresult_14954 on ip-172-31-15-141.us-east-2.compute.internal:36381 in memory (size: 1138.4 KB, free: 4.8 GB)\n",
      "22/12/10 01:42:58 INFO BlockManagerInfo: Added taskresult_14953 in memory on ip-172-31-15-141.us-east-2.compute.internal:36381 (size: 1099.2 KB, free: 4.8 GB)\n",
      "22/12/10 01:42:58 INFO TaskSetManager: Starting task 18.0 in stage 723.0 (TID 14958, ip-172-31-15-141.us-east-2.compute.internal, executor 34, partition 18, RACK_LOCAL, 8592 bytes)\n",
      "22/12/10 01:42:58 INFO TaskSetManager: Finished task 13.0 in stage 723.0 (TID 14953) in 3503 ms on ip-172-31-15-141.us-east-2.compute.internal (executor 34) (15/40)\n",
      "22/12/10 01:42:58 INFO BlockManagerInfo: Removed taskresult_14953 on ip-172-31-15-141.us-east-2.compute.internal:36381 in memory (size: 1099.2 KB, free: 4.8 GB)\n",
      "22/12/10 01:42:58 INFO BlockManagerInfo: Added taskresult_14955 in memory on ip-172-31-15-141.us-east-2.compute.internal:36381 (size: 1143.2 KB, free: 4.8 GB)\n",
      "22/12/10 01:42:58 INFO TaskSetManager: Starting task 19.0 in stage 723.0 (TID 14959, ip-172-31-15-141.us-east-2.compute.internal, executor 34, partition 19, RACK_LOCAL, 8592 bytes)\n",
      "22/12/10 01:42:58 INFO TaskSetManager: Finished task 15.0 in stage 723.0 (TID 14955) in 3606 ms on ip-172-31-15-141.us-east-2.compute.internal (executor 34) (16/40)\n",
      "22/12/10 01:42:58 INFO BlockManagerInfo: Removed taskresult_14955 on ip-172-31-15-141.us-east-2.compute.internal:36381 in memory (size: 1143.2 KB, free: 4.8 GB)\n",
      "22/12/10 01:43:01 INFO BlockManagerInfo: Added taskresult_14956 in memory on ip-172-31-15-141.us-east-2.compute.internal:36381 (size: 1094.6 KB, free: 4.8 GB)\n",
      "22/12/10 01:43:01 INFO TaskSetManager: Starting task 20.0 in stage 723.0 (TID 14960, ip-172-31-15-141.us-east-2.compute.internal, executor 34, partition 20, RACK_LOCAL, 8592 bytes)\n",
      "22/12/10 01:43:01 INFO TaskSetManager: Finished task 16.0 in stage 723.0 (TID 14956) in 3404 ms on ip-172-31-15-141.us-east-2.compute.internal (executor 34) (17/40)\n",
      "22/12/10 01:43:01 INFO BlockManagerInfo: Removed taskresult_14956 on ip-172-31-15-141.us-east-2.compute.internal:36381 in memory (size: 1094.6 KB, free: 4.8 GB)\n",
      "22/12/10 01:43:01 INFO BlockManagerInfo: Added taskresult_14957 in memory on ip-172-31-15-141.us-east-2.compute.internal:36381 (size: 1090.4 KB, free: 4.8 GB)\n",
      "22/12/10 01:43:01 INFO TaskSetManager: Starting task 21.0 in stage 723.0 (TID 14961, ip-172-31-15-141.us-east-2.compute.internal, executor 34, partition 21, RACK_LOCAL, 8592 bytes)\n",
      "22/12/10 01:43:01 INFO TaskSetManager: Finished task 17.0 in stage 723.0 (TID 14957) in 3672 ms on ip-172-31-15-141.us-east-2.compute.internal (executor 34) (18/40)\n",
      "22/12/10 01:43:01 INFO BlockManagerInfo: Removed taskresult_14957 on ip-172-31-15-141.us-east-2.compute.internal:36381 in memory (size: 1090.4 KB, free: 4.8 GB)\n",
      "22/12/10 01:43:02 INFO BlockManagerInfo: Added taskresult_14959 in memory on ip-172-31-15-141.us-east-2.compute.internal:36381 (size: 1140.1 KB, free: 4.8 GB)\n",
      "22/12/10 01:43:02 INFO BlockManagerInfo: Added taskresult_14958 in memory on ip-172-31-15-141.us-east-2.compute.internal:36381 (size: 1128.2 KB, free: 4.8 GB)\n",
      "22/12/10 01:43:02 INFO TaskSetManager: Starting task 22.0 in stage 723.0 (TID 14962, ip-172-31-15-141.us-east-2.compute.internal, executor 34, partition 22, RACK_LOCAL, 8592 bytes)\n",
      "22/12/10 01:43:02 INFO TaskSetManager: Starting task 23.0 in stage 723.0 (TID 14963, ip-172-31-15-141.us-east-2.compute.internal, executor 34, partition 23, RACK_LOCAL, 8592 bytes)\n",
      "22/12/10 01:43:02 INFO TaskSetManager: Finished task 19.0 in stage 723.0 (TID 14959) in 3495 ms on ip-172-31-15-141.us-east-2.compute.internal (executor 34) (19/40)\n",
      "22/12/10 01:43:02 INFO TaskSetManager: Finished task 18.0 in stage 723.0 (TID 14958) in 3676 ms on ip-172-31-15-141.us-east-2.compute.internal (executor 34) (20/40)\n",
      "22/12/10 01:43:02 INFO BlockManagerInfo: Removed taskresult_14959 on ip-172-31-15-141.us-east-2.compute.internal:36381 in memory (size: 1140.1 KB, free: 4.8 GB)\n",
      "22/12/10 01:43:02 INFO BlockManagerInfo: Removed taskresult_14958 on ip-172-31-15-141.us-east-2.compute.internal:36381 in memory (size: 1128.2 KB, free: 4.8 GB)\n",
      "22/12/10 01:43:04 INFO BlockManagerInfo: Added taskresult_14960 in memory on ip-172-31-15-141.us-east-2.compute.internal:36381 (size: 1103.7 KB, free: 4.8 GB)\n",
      "22/12/10 01:43:04 INFO TaskSetManager: Starting task 24.0 in stage 723.0 (TID 14964, ip-172-31-15-141.us-east-2.compute.internal, executor 34, partition 24, RACK_LOCAL, 8592 bytes)\n",
      "22/12/10 01:43:04 INFO TaskSetManager: Finished task 20.0 in stage 723.0 (TID 14960) in 3241 ms on ip-172-31-15-141.us-east-2.compute.internal (executor 34) (21/40)\n",
      "22/12/10 01:43:04 INFO BlockManagerInfo: Removed taskresult_14960 on ip-172-31-15-141.us-east-2.compute.internal:36381 in memory (size: 1103.7 KB, free: 4.8 GB)\n"
     ]
    }
   ],
   "source": [
    "bus=spark.read.json('s3://project-yelp-review-sentiment-analysis/yelp_academic_dataset_business.json')\n",
    "bus.show(5)"
   ]
  },
  {
   "cell_type": "code",
   "execution_count": 138,
   "id": "674ab6b7-d3be-4bd7-9ce2-95da15b7ad73",
   "metadata": {
    "execution": {
     "iopub.execute_input": "2022-12-10T01:05:36.259316Z",
     "iopub.status.busy": "2022-12-10T01:05:36.259092Z",
     "iopub.status.idle": "2022-12-10T01:05:36.321393Z",
     "shell.execute_reply": "2022-12-10T01:05:36.320801Z",
     "shell.execute_reply.started": "2022-12-10T01:05:36.259291Z"
    },
    "tags": []
   },
   "outputs": [
    {
     "data": {
      "application/vnd.jupyter.widget-view+json": {
       "model_id": "ade3e0eb171c4e6bac300f94ed76ed80",
       "version_major": 2,
       "version_minor": 0
      },
      "text/plain": [
       "VBox()"
      ]
     },
     "metadata": {},
     "output_type": "display_data"
    },
    {
     "data": {
      "application/vnd.jupyter.widget-view+json": {
       "model_id": "",
       "version_major": 2,
       "version_minor": 0
      },
      "text/plain": [
       "FloatProgress(value=0.0, bar_style='info', description='Progress:', layout=Layout(height='25px', width='50%'),…"
      ]
     },
     "metadata": {},
     "output_type": "display_data"
    },
    {
     "name": "stdout",
     "output_type": "stream",
     "text": [
      "root\n",
      " |-- address: string (nullable = true)\n",
      " |-- attributes: struct (nullable = true)\n",
      " |    |-- AcceptsInsurance: string (nullable = true)\n",
      " |    |-- AgesAllowed: string (nullable = true)\n",
      " |    |-- Alcohol: string (nullable = true)\n",
      " |    |-- Ambience: string (nullable = true)\n",
      " |    |-- BYOB: string (nullable = true)\n",
      " |    |-- BYOBCorkage: string (nullable = true)\n",
      " |    |-- BestNights: string (nullable = true)\n",
      " |    |-- BikeParking: string (nullable = true)\n",
      " |    |-- BusinessAcceptsBitcoin: string (nullable = true)\n",
      " |    |-- BusinessAcceptsCreditCards: string (nullable = true)\n",
      " |    |-- BusinessParking: string (nullable = true)\n",
      " |    |-- ByAppointmentOnly: string (nullable = true)\n",
      " |    |-- Caters: string (nullable = true)\n",
      " |    |-- CoatCheck: string (nullable = true)\n",
      " |    |-- Corkage: string (nullable = true)\n",
      " |    |-- DietaryRestrictions: string (nullable = true)\n",
      " |    |-- DogsAllowed: string (nullable = true)\n",
      " |    |-- DriveThru: string (nullable = true)\n",
      " |    |-- GoodForDancing: string (nullable = true)\n",
      " |    |-- GoodForKids: string (nullable = true)\n",
      " |    |-- GoodForMeal: string (nullable = true)\n",
      " |    |-- HairSpecializesIn: string (nullable = true)\n",
      " |    |-- HappyHour: string (nullable = true)\n",
      " |    |-- HasTV: string (nullable = true)\n",
      " |    |-- Music: string (nullable = true)\n",
      " |    |-- NoiseLevel: string (nullable = true)\n",
      " |    |-- Open24Hours: string (nullable = true)\n",
      " |    |-- OutdoorSeating: string (nullable = true)\n",
      " |    |-- RestaurantsAttire: string (nullable = true)\n",
      " |    |-- RestaurantsCounterService: string (nullable = true)\n",
      " |    |-- RestaurantsDelivery: string (nullable = true)\n",
      " |    |-- RestaurantsGoodForGroups: string (nullable = true)\n",
      " |    |-- RestaurantsPriceRange2: string (nullable = true)\n",
      " |    |-- RestaurantsReservations: string (nullable = true)\n",
      " |    |-- RestaurantsTableService: string (nullable = true)\n",
      " |    |-- RestaurantsTakeOut: string (nullable = true)\n",
      " |    |-- Smoking: string (nullable = true)\n",
      " |    |-- WheelchairAccessible: string (nullable = true)\n",
      " |    |-- WiFi: string (nullable = true)\n",
      " |-- business_id: string (nullable = true)\n",
      " |-- categories: string (nullable = true)\n",
      " |-- city: string (nullable = true)\n",
      " |-- hours: struct (nullable = true)\n",
      " |    |-- Friday: string (nullable = true)\n",
      " |    |-- Monday: string (nullable = true)\n",
      " |    |-- Saturday: string (nullable = true)\n",
      " |    |-- Sunday: string (nullable = true)\n",
      " |    |-- Thursday: string (nullable = true)\n",
      " |    |-- Tuesday: string (nullable = true)\n",
      " |    |-- Wednesday: string (nullable = true)\n",
      " |-- is_open: long (nullable = true)\n",
      " |-- latitude: double (nullable = true)\n",
      " |-- longitude: double (nullable = true)\n",
      " |-- name: string (nullable = true)\n",
      " |-- postal_code: string (nullable = true)\n",
      " |-- review_count: long (nullable = true)\n",
      " |-- stars: double (nullable = true)\n",
      " |-- state: string (nullable = true)"
     ]
    }
   ],
   "source": [
    "bus.printSchema()"
   ]
  },
  {
   "cell_type": "code",
   "execution_count": 160,
   "id": "9f1611e0-fe5f-46ba-878b-47d3c63f3532",
   "metadata": {
    "execution": {
     "iopub.execute_input": "2022-12-10T01:50:09.075810Z",
     "iopub.status.busy": "2022-12-10T01:50:09.075483Z",
     "iopub.status.idle": "2022-12-10T01:50:09.125744Z",
     "shell.execute_reply": "2022-12-10T01:50:09.125188Z",
     "shell.execute_reply.started": "2022-12-10T01:50:09.075770Z"
    },
    "tags": []
   },
   "outputs": [
    {
     "data": {
      "application/vnd.jupyter.widget-view+json": {
       "model_id": "73c6b99465d94e14b03f5137b6470498",
       "version_major": 2,
       "version_minor": 0
      },
      "text/plain": [
       "VBox()"
      ]
     },
     "metadata": {},
     "output_type": "display_data"
    },
    {
     "name": "stderr",
     "output_type": "stream",
     "text": [
      "An error was encountered:\n",
      "Session 0 unexpectedly reached final status 'error'. See logs:\n",
      "stdout: \n",
      "\n",
      "stderr: \n",
      "22/12/10 01:42:37 INFO ExecutorAllocationManager: Requesting 1 new executor because tasks are backlogged (new desired total will be 1)\n",
      "22/12/10 01:42:38 INFO ExecutorAllocationManager: Requesting 2 new executors because tasks are backlogged (new desired total will be 3)\n",
      "22/12/10 01:42:39 INFO ExecutorAllocationManager: Requesting 4 new executors because tasks are backlogged (new desired total will be 7)\n",
      "22/12/10 01:42:40 INFO YarnSchedulerBackend$YarnDriverEndpoint: Registered executor NettyRpcEndpointRef(spark-client://Executor) (172.31.15.141:42512) with ID 34\n",
      "22/12/10 01:42:40 INFO ExecutorAllocationManager: New executor 34 has registered (new total is 1)\n",
      "22/12/10 01:42:40 INFO TaskSetManager: Starting task 0.0 in stage 723.0 (TID 14940, ip-172-31-15-141.us-east-2.compute.internal, executor 34, partition 0, RACK_LOCAL, 8592 bytes)\n",
      "22/12/10 01:42:40 INFO TaskSetManager: Starting task 1.0 in stage 723.0 (TID 14941, ip-172-31-15-141.us-east-2.compute.internal, executor 34, partition 1, RACK_LOCAL, 8592 bytes)\n",
      "22/12/10 01:42:40 INFO TaskSetManager: Starting task 2.0 in stage 723.0 (TID 14942, ip-172-31-15-141.us-east-2.compute.internal, executor 34, partition 2, RACK_LOCAL, 8592 bytes)\n",
      "22/12/10 01:42:40 INFO TaskSetManager: Starting task 3.0 in stage 723.0 (TID 14943, ip-172-31-15-141.us-east-2.compute.internal, executor 34, partition 3, RACK_LOCAL, 8592 bytes)\n",
      "22/12/10 01:42:40 INFO BlockManagerMasterEndpoint: Registering block manager ip-172-31-15-141.us-east-2.compute.internal:36381 with 4.8 GB RAM, BlockManagerId(34, ip-172-31-15-141.us-east-2.compute.internal, 36381, None)\n",
      "22/12/10 01:42:40 INFO ExecutorAllocationManager: Requesting 3 new executors because tasks are backlogged (new desired total will be 10)\n",
      "22/12/10 01:42:40 INFO BlockManagerInfo: Added broadcast_1051_piece0 in memory on ip-172-31-15-141.us-east-2.compute.internal:36381 (size: 5.5 KB, free: 4.8 GB)\n",
      "22/12/10 01:42:41 INFO BlockManagerInfo: Added broadcast_1050_piece0 in memory on ip-172-31-15-141.us-east-2.compute.internal:36381 (size: 33.9 KB, free: 4.8 GB)\n",
      "22/12/10 01:42:47 INFO BlockManagerInfo: Added taskresult_14941 in memory on ip-172-31-15-141.us-east-2.compute.internal:36381 (size: 1100.3 KB, free: 4.8 GB)\n",
      "22/12/10 01:42:47 INFO TaskSetManager: Starting task 4.0 in stage 723.0 (TID 14944, ip-172-31-15-141.us-east-2.compute.internal, executor 34, partition 4, RACK_LOCAL, 8592 bytes)\n",
      "22/12/10 01:42:47 INFO TransportClientFactory: Successfully created connection to ip-172-31-15-141.us-east-2.compute.internal/172.31.15.141:36381 after 1 ms (0 ms spent in bootstraps)\n",
      "22/12/10 01:42:47 INFO TaskSetManager: Finished task 1.0 in stage 723.0 (TID 14941) in 7182 ms on ip-172-31-15-141.us-east-2.compute.internal (executor 34) (1/40)\n",
      "22/12/10 01:42:47 INFO BlockManagerInfo: Removed taskresult_14941 on ip-172-31-15-141.us-east-2.compute.internal:36381 in memory (size: 1100.3 KB, free: 4.8 GB)\n",
      "22/12/10 01:42:47 INFO BlockManagerInfo: Added taskresult_14943 in memory on ip-172-31-15-141.us-east-2.compute.internal:36381 (size: 1139.2 KB, free: 4.8 GB)\n",
      "22/12/10 01:42:47 INFO BlockManagerInfo: Added taskresult_14940 in memory on ip-172-31-15-141.us-east-2.compute.internal:36381 (size: 1093.8 KB, free: 4.8 GB)\n",
      "22/12/10 01:42:47 INFO TaskSetManager: Starting task 5.0 in stage 723.0 (TID 14945, ip-172-31-15-141.us-east-2.compute.internal, executor 34, partition 5, RACK_LOCAL, 8592 bytes)\n",
      "22/12/10 01:42:47 INFO TaskSetManager: Finished task 0.0 in stage 723.0 (TID 14940) in 7361 ms on ip-172-31-15-141.us-east-2.compute.internal (executor 34) (2/40)\n",
      "22/12/10 01:42:47 INFO BlockManagerInfo: Added taskresult_14942 in memory on ip-172-31-15-141.us-east-2.compute.internal:36381 (size: 1133.5 KB, free: 4.8 GB)\n",
      "22/12/10 01:42:47 INFO TaskSetManager: Starting task 6.0 in stage 723.0 (TID 14946, ip-172-31-15-141.us-east-2.compute.internal, executor 34, partition 6, RACK_LOCAL, 8592 bytes)\n",
      "22/12/10 01:42:47 INFO BlockManagerInfo: Removed taskresult_14940 on ip-172-31-15-141.us-east-2.compute.internal:36381 in memory (size: 1093.8 KB, free: 4.8 GB)\n",
      "22/12/10 01:42:47 INFO TaskSetManager: Finished task 3.0 in stage 723.0 (TID 14943) in 7373 ms on ip-172-31-15-141.us-east-2.compute.internal (executor 34) (3/40)\n",
      "22/12/10 01:42:47 INFO TaskSetManager: Starting task 7.0 in stage 723.0 (TID 14947, ip-172-31-15-141.us-east-2.compute.internal, executor 34, partition 7, RACK_LOCAL, 8592 bytes)\n",
      "22/12/10 01:42:47 INFO TaskSetManager: Finished task 2.0 in stage 723.0 (TID 14942) in 7384 ms on ip-172-31-15-141.us-east-2.compute.internal (executor 34) (4/40)\n",
      "22/12/10 01:42:47 INFO BlockManagerInfo: Removed taskresult_14943 on ip-172-31-15-141.us-east-2.compute.internal:36381 in memory (size: 1139.2 KB, free: 4.8 GB)\n",
      "22/12/10 01:42:47 INFO BlockManagerInfo: Removed taskresult_14942 on ip-172-31-15-141.us-east-2.compute.internal:36381 in memory (size: 1133.5 KB, free: 4.8 GB)\n",
      "22/12/10 01:42:50 INFO BlockManagerInfo: Added taskresult_14944 in memory on ip-172-31-15-141.us-east-2.compute.internal:36381 (size: 1101.8 KB, free: 4.8 GB)\n",
      "22/12/10 01:42:50 INFO TaskSetManager: Starting task 8.0 in stage 723.0 (TID 14948, ip-172-31-15-141.us-east-2.compute.internal, executor 34, partition 8, RACK_LOCAL, 8592 bytes)\n",
      "22/12/10 01:42:50 INFO TaskSetManager: Finished task 4.0 in stage 723.0 (TID 14944) in 3294 ms on ip-172-31-15-141.us-east-2.compute.internal (executor 34) (5/40)\n",
      "22/12/10 01:42:50 INFO BlockManagerInfo: Removed taskresult_14944 on ip-172-31-15-141.us-east-2.compute.internal:36381 in memory (size: 1101.8 KB, free: 4.8 GB)\n",
      "22/12/10 01:42:51 INFO BlockManagerInfo: Added taskresult_14945 in memory on ip-172-31-15-141.us-east-2.compute.internal:36381 (size: 1096.2 KB, free: 4.8 GB)\n",
      "22/12/10 01:42:51 INFO TaskSetManager: Starting task 9.0 in stage 723.0 (TID 14949, ip-172-31-15-141.us-east-2.compute.internal, executor 34, partition 9, RACK_LOCAL, 8592 bytes)\n",
      "22/12/10 01:42:51 INFO TaskSetManager: Finished task 5.0 in stage 723.0 (TID 14945) in 3533 ms on ip-172-31-15-141.us-east-2.compute.internal (executor 34) (6/40)\n",
      "22/12/10 01:42:51 INFO BlockManagerInfo: Removed taskresult_14945 on ip-172-31-15-141.us-east-2.compute.internal:36381 in memory (size: 1096.2 KB, free: 4.8 GB)\n",
      "22/12/10 01:42:51 INFO BlockManagerInfo: Added taskresult_14947 in memory on ip-172-31-15-141.us-east-2.compute.internal:36381 (size: 1143.4 KB, free: 4.8 GB)\n",
      "22/12/10 01:42:51 INFO TaskSetManager: Starting task 10.0 in stage 723.0 (TID 14950, ip-172-31-15-141.us-east-2.compute.internal, executor 34, partition 10, RACK_LOCAL, 8592 bytes)\n",
      "22/12/10 01:42:51 INFO TaskSetManager: Finished task 7.0 in stage 723.0 (TID 14947) in 3547 ms on ip-172-31-15-141.us-east-2.compute.internal (executor 34) (7/40)\n",
      "22/12/10 01:42:51 INFO BlockManagerInfo: Removed taskresult_14947 on ip-172-31-15-141.us-east-2.compute.internal:36381 in memory (size: 1143.4 KB, free: 4.8 GB)\n",
      "22/12/10 01:42:51 INFO BlockManagerInfo: Added taskresult_14946 in memory on ip-172-31-15-141.us-east-2.compute.internal:36381 (size: 1139.1 KB, free: 4.8 GB)\n",
      "22/12/10 01:42:51 INFO TaskSetManager: Starting task 11.0 in stage 723.0 (TID 14951, ip-172-31-15-141.us-east-2.compute.internal, executor 34, partition 11, RACK_LOCAL, 8592 bytes)\n",
      "22/12/10 01:42:51 INFO TaskSetManager: Finished task 6.0 in stage 723.0 (TID 14946) in 3923 ms on ip-172-31-15-141.us-east-2.compute.internal (executor 34) (8/40)\n",
      "22/12/10 01:42:51 INFO BlockManagerInfo: Removed taskresult_14946 on ip-172-31-15-141.us-east-2.compute.internal:36381 in memory (size: 1139.1 KB, free: 4.8 GB)\n",
      "22/12/10 01:42:54 INFO BlockManagerInfo: Added taskresult_14948 in memory on ip-172-31-15-141.us-east-2.compute.internal:36381 (size: 1103.0 KB, free: 4.8 GB)\n",
      "22/12/10 01:42:54 INFO TaskSetManager: Starting task 12.0 in stage 723.0 (TID 14952, ip-172-31-15-141.us-east-2.compute.internal, executor 34, partition 12, RACK_LOCAL, 8592 bytes)\n",
      "22/12/10 01:42:54 INFO TaskSetManager: Finished task 8.0 in stage 723.0 (TID 14948) in 3647 ms on ip-172-31-15-141.us-east-2.compute.internal (executor 34) (9/40)\n",
      "22/12/10 01:42:54 INFO BlockManagerInfo: Removed taskresult_14948 on ip-172-31-15-141.us-east-2.compute.internal:36381 in memory (size: 1103.0 KB, free: 4.8 GB)\n",
      "22/12/10 01:42:55 INFO BlockManagerInfo: Added taskresult_14949 in memory on ip-172-31-15-141.us-east-2.compute.internal:36381 (size: 1097.5 KB, free: 4.8 GB)\n",
      "22/12/10 01:42:55 INFO TaskSetManager: Starting task 13.0 in stage 723.0 (TID 14953, ip-172-31-15-141.us-east-2.compute.internal, executor 34, partition 13, RACK_LOCAL, 8592 bytes)\n",
      "22/12/10 01:42:55 INFO TaskSetManager: Finished task 9.0 in stage 723.0 (TID 14949) in 3731 ms on ip-172-31-15-141.us-east-2.compute.internal (executor 34) (10/40)\n",
      "22/12/10 01:42:55 INFO BlockManagerInfo: Removed taskresult_14949 on ip-172-31-15-141.us-east-2.compute.internal:36381 in memory (size: 1097.5 KB, free: 4.8 GB)\n",
      "22/12/10 01:42:55 INFO BlockManagerInfo: Added taskresult_14951 in memory on ip-172-31-15-141.us-east-2.compute.internal:36381 (size: 1151.2 KB, free: 4.8 GB)\n",
      "22/12/10 01:42:55 INFO TaskSetManager: Starting task 14.0 in stage 723.0 (TID 14954, ip-172-31-15-141.us-east-2.compute.internal, executor 34, partition 14, RACK_LOCAL, 8592 bytes)\n",
      "22/12/10 01:42:55 INFO TaskSetManager: Finished task 11.0 in stage 723.0 (TID 14951) in 3360 ms on ip-172-31-15-141.us-east-2.compute.internal (executor 34) (11/40)\n",
      "22/12/10 01:42:55 INFO BlockManagerInfo: Removed taskresult_14951 on ip-172-31-15-141.us-east-2.compute.internal:36381 in memory (size: 1151.2 KB, free: 4.8 GB)\n",
      "22/12/10 01:42:55 INFO BlockManagerInfo: Added taskresult_14950 in memory on ip-172-31-15-141.us-east-2.compute.internal:36381 (size: 1129.5 KB, free: 4.8 GB)\n",
      "22/12/10 01:42:55 INFO TaskSetManager: Starting task 15.0 in stage 723.0 (TID 14955, ip-172-31-15-141.us-east-2.compute.internal, executor 34, partition 15, RACK_LOCAL, 8592 bytes)\n",
      "22/12/10 01:42:55 INFO TaskSetManager: Finished task 10.0 in stage 723.0 (TID 14950) in 3767 ms on ip-172-31-15-141.us-east-2.compute.internal (executor 34) (12/40)\n",
      "22/12/10 01:42:55 INFO BlockManagerInfo: Removed taskresult_14950 on ip-172-31-15-141.us-east-2.compute.internal:36381 in memory (size: 1129.5 KB, free: 4.8 GB)\n",
      "22/12/10 01:42:57 INFO BlockManagerInfo: Added taskresult_14952 in memory on ip-172-31-15-141.us-east-2.compute.internal:36381 (size: 1105.8 KB, free: 4.8 GB)\n",
      "22/12/10 01:42:57 INFO TaskSetManager: Starting task 16.0 in stage 723.0 (TID 14956, ip-172-31-15-141.us-east-2.compute.internal, executor 34, partition 16, RACK_LOCAL, 8592 bytes)\n",
      "22/12/10 01:42:57 INFO TaskSetManager: Finished task 12.0 in stage 723.0 (TID 14952) in 3413 ms on ip-172-31-15-141.us-east-2.compute.internal (executor 34) (13/40)\n",
      "22/12/10 01:42:57 INFO BlockManagerInfo: Removed taskresult_14952 on ip-172-31-15-141.us-east-2.compute.internal:36381 in memory (size: 1105.8 KB, free: 4.8 GB)\n",
      "22/12/10 01:42:58 INFO BlockManagerInfo: Added taskresult_14954 in memory on ip-172-31-15-141.us-east-2.compute.internal:36381 (size: 1138.4 KB, free: 4.8 GB)\n",
      "22/12/10 01:42:58 INFO TaskSetManager: Starting task 17.0 in stage 723.0 (TID 14957, ip-172-31-15-141.us-east-2.compute.internal, executor 34, partition 17, RACK_LOCAL, 8592 bytes)\n",
      "22/12/10 01:42:58 INFO TaskSetManager: Finished task 14.0 in stage 723.0 (TID 14954) in 3252 ms on ip-172-31-15-141.us-east-2.compute.internal (executor 34) (14/40)\n",
      "22/12/10 01:42:58 INFO BlockManagerInfo: Removed taskresult_14954 on ip-172-31-15-141.us-east-2.compute.internal:36381 in memory (size: 1138.4 KB, free: 4.8 GB)\n",
      "22/12/10 01:42:58 INFO BlockManagerInfo: Added taskresult_14953 in memory on ip-172-31-15-141.us-east-2.compute.internal:36381 (size: 1099.2 KB, free: 4.8 GB)\n",
      "22/12/10 01:42:58 INFO TaskSetManager: Starting task 18.0 in stage 723.0 (TID 14958, ip-172-31-15-141.us-east-2.compute.internal, executor 34, partition 18, RACK_LOCAL, 8592 bytes)\n",
      "22/12/10 01:42:58 INFO TaskSetManager: Finished task 13.0 in stage 723.0 (TID 14953) in 3503 ms on ip-172-31-15-141.us-east-2.compute.internal (executor 34) (15/40)\n",
      "22/12/10 01:42:58 INFO BlockManagerInfo: Removed taskresult_14953 on ip-172-31-15-141.us-east-2.compute.internal:36381 in memory (size: 1099.2 KB, free: 4.8 GB)\n",
      "22/12/10 01:42:58 INFO BlockManagerInfo: Added taskresult_14955 in memory on ip-172-31-15-141.us-east-2.compute.internal:36381 (size: 1143.2 KB, free: 4.8 GB)\n",
      "22/12/10 01:42:58 INFO TaskSetManager: Starting task 19.0 in stage 723.0 (TID 14959, ip-172-31-15-141.us-east-2.compute.internal, executor 34, partition 19, RACK_LOCAL, 8592 bytes)\n",
      "22/12/10 01:42:58 INFO TaskSetManager: Finished task 15.0 in stage 723.0 (TID 14955) in 3606 ms on ip-172-31-15-141.us-east-2.compute.internal (executor 34) (16/40)\n",
      "22/12/10 01:42:58 INFO BlockManagerInfo: Removed taskresult_14955 on ip-172-31-15-141.us-east-2.compute.internal:36381 in memory (size: 1143.2 KB, free: 4.8 GB)\n",
      "22/12/10 01:43:01 INFO BlockManagerInfo: Added taskresult_14956 in memory on ip-172-31-15-141.us-east-2.compute.internal:36381 (size: 1094.6 KB, free: 4.8 GB)\n",
      "22/12/10 01:43:01 INFO TaskSetManager: Starting task 20.0 in stage 723.0 (TID 14960, ip-172-31-15-141.us-east-2.compute.internal, executor 34, partition 20, RACK_LOCAL, 8592 bytes)\n",
      "22/12/10 01:43:01 INFO TaskSetManager: Finished task 16.0 in stage 723.0 (TID 14956) in 3404 ms on ip-172-31-15-141.us-east-2.compute.internal (executor 34) (17/40)\n",
      "22/12/10 01:43:01 INFO BlockManagerInfo: Removed taskresult_14956 on ip-172-31-15-141.us-east-2.compute.internal:36381 in memory (size: 1094.6 KB, free: 4.8 GB)\n",
      "22/12/10 01:43:01 INFO BlockManagerInfo: Added taskresult_14957 in memory on ip-172-31-15-141.us-east-2.compute.internal:36381 (size: 1090.4 KB, free: 4.8 GB)\n",
      "22/12/10 01:43:01 INFO TaskSetManager: Starting task 21.0 in stage 723.0 (TID 14961, ip-172-31-15-141.us-east-2.compute.internal, executor 34, partition 21, RACK_LOCAL, 8592 bytes)\n",
      "22/12/10 01:43:01 INFO TaskSetManager: Finished task 17.0 in stage 723.0 (TID 14957) in 3672 ms on ip-172-31-15-141.us-east-2.compute.internal (executor 34) (18/40)\n",
      "22/12/10 01:43:01 INFO BlockManagerInfo: Removed taskresult_14957 on ip-172-31-15-141.us-east-2.compute.internal:36381 in memory (size: 1090.4 KB, free: 4.8 GB)\n",
      "22/12/10 01:43:02 INFO BlockManagerInfo: Added taskresult_14959 in memory on ip-172-31-15-141.us-east-2.compute.internal:36381 (size: 1140.1 KB, free: 4.8 GB)\n",
      "22/12/10 01:43:02 INFO BlockManagerInfo: Added taskresult_14958 in memory on ip-172-31-15-141.us-east-2.compute.internal:36381 (size: 1128.2 KB, free: 4.8 GB)\n",
      "22/12/10 01:43:02 INFO TaskSetManager: Starting task 22.0 in stage 723.0 (TID 14962, ip-172-31-15-141.us-east-2.compute.internal, executor 34, partition 22, RACK_LOCAL, 8592 bytes)\n",
      "22/12/10 01:43:02 INFO TaskSetManager: Starting task 23.0 in stage 723.0 (TID 14963, ip-172-31-15-141.us-east-2.compute.internal, executor 34, partition 23, RACK_LOCAL, 8592 bytes)\n",
      "22/12/10 01:43:02 INFO TaskSetManager: Finished task 19.0 in stage 723.0 (TID 14959) in 3495 ms on ip-172-31-15-141.us-east-2.compute.internal (executor 34) (19/40)\n",
      "22/12/10 01:43:02 INFO TaskSetManager: Finished task 18.0 in stage 723.0 (TID 14958) in 3676 ms on ip-172-31-15-141.us-east-2.compute.internal (executor 34) (20/40)\n",
      "22/12/10 01:43:02 INFO BlockManagerInfo: Removed taskresult_14959 on ip-172-31-15-141.us-east-2.compute.internal:36381 in memory (size: 1140.1 KB, free: 4.8 GB)\n",
      "22/12/10 01:43:02 INFO BlockManagerInfo: Removed taskresult_14958 on ip-172-31-15-141.us-east-2.compute.internal:36381 in memory (size: 1128.2 KB, free: 4.8 GB)\n",
      "22/12/10 01:43:04 INFO BlockManagerInfo: Added taskresult_14960 in memory on ip-172-31-15-141.us-east-2.compute.internal:36381 (size: 1103.7 KB, free: 4.8 GB)\n",
      "22/12/10 01:43:04 INFO TaskSetManager: Starting task 24.0 in stage 723.0 (TID 14964, ip-172-31-15-141.us-east-2.compute.internal, executor 34, partition 24, RACK_LOCAL, 8592 bytes)\n",
      "22/12/10 01:43:04 INFO TaskSetManager: Finished task 20.0 in stage 723.0 (TID 14960) in 3241 ms on ip-172-31-15-141.us-east-2.compute.internal (executor 34) (21/40)\n",
      "22/12/10 01:43:04 INFO BlockManagerInfo: Removed taskresult_14960 on ip-172-31-15-141.us-east-2.compute.internal:36381 in memory (size: 1103.7 KB, free: 4.8 GB)\n"
     ]
    }
   ],
   "source": [
    "star=bus.groupby(bus[\"stars\"])"
   ]
  },
  {
   "cell_type": "code",
   "execution_count": 163,
   "id": "5cb5a196-7b3a-4102-a552-eb96113e1ffc",
   "metadata": {
    "execution": {
     "iopub.execute_input": "2022-12-10T01:51:10.458852Z",
     "iopub.status.busy": "2022-12-10T01:51:10.458630Z",
     "iopub.status.idle": "2022-12-10T01:51:10.504018Z",
     "shell.execute_reply": "2022-12-10T01:51:10.503300Z",
     "shell.execute_reply.started": "2022-12-10T01:51:10.458828Z"
    },
    "tags": []
   },
   "outputs": [
    {
     "data": {
      "application/vnd.jupyter.widget-view+json": {
       "model_id": "fda59a14e9324df7b7cae61ebb10c605",
       "version_major": 2,
       "version_minor": 0
      },
      "text/plain": [
       "VBox()"
      ]
     },
     "metadata": {},
     "output_type": "display_data"
    },
    {
     "name": "stderr",
     "output_type": "stream",
     "text": [
      "An error was encountered:\n",
      "Session 0 unexpectedly reached final status 'error'. See logs:\n",
      "stdout: \n",
      "\n",
      "stderr: \n",
      "22/12/10 01:42:37 INFO ExecutorAllocationManager: Requesting 1 new executor because tasks are backlogged (new desired total will be 1)\n",
      "22/12/10 01:42:38 INFO ExecutorAllocationManager: Requesting 2 new executors because tasks are backlogged (new desired total will be 3)\n",
      "22/12/10 01:42:39 INFO ExecutorAllocationManager: Requesting 4 new executors because tasks are backlogged (new desired total will be 7)\n",
      "22/12/10 01:42:40 INFO YarnSchedulerBackend$YarnDriverEndpoint: Registered executor NettyRpcEndpointRef(spark-client://Executor) (172.31.15.141:42512) with ID 34\n",
      "22/12/10 01:42:40 INFO ExecutorAllocationManager: New executor 34 has registered (new total is 1)\n",
      "22/12/10 01:42:40 INFO TaskSetManager: Starting task 0.0 in stage 723.0 (TID 14940, ip-172-31-15-141.us-east-2.compute.internal, executor 34, partition 0, RACK_LOCAL, 8592 bytes)\n",
      "22/12/10 01:42:40 INFO TaskSetManager: Starting task 1.0 in stage 723.0 (TID 14941, ip-172-31-15-141.us-east-2.compute.internal, executor 34, partition 1, RACK_LOCAL, 8592 bytes)\n",
      "22/12/10 01:42:40 INFO TaskSetManager: Starting task 2.0 in stage 723.0 (TID 14942, ip-172-31-15-141.us-east-2.compute.internal, executor 34, partition 2, RACK_LOCAL, 8592 bytes)\n",
      "22/12/10 01:42:40 INFO TaskSetManager: Starting task 3.0 in stage 723.0 (TID 14943, ip-172-31-15-141.us-east-2.compute.internal, executor 34, partition 3, RACK_LOCAL, 8592 bytes)\n",
      "22/12/10 01:42:40 INFO BlockManagerMasterEndpoint: Registering block manager ip-172-31-15-141.us-east-2.compute.internal:36381 with 4.8 GB RAM, BlockManagerId(34, ip-172-31-15-141.us-east-2.compute.internal, 36381, None)\n",
      "22/12/10 01:42:40 INFO ExecutorAllocationManager: Requesting 3 new executors because tasks are backlogged (new desired total will be 10)\n",
      "22/12/10 01:42:40 INFO BlockManagerInfo: Added broadcast_1051_piece0 in memory on ip-172-31-15-141.us-east-2.compute.internal:36381 (size: 5.5 KB, free: 4.8 GB)\n",
      "22/12/10 01:42:41 INFO BlockManagerInfo: Added broadcast_1050_piece0 in memory on ip-172-31-15-141.us-east-2.compute.internal:36381 (size: 33.9 KB, free: 4.8 GB)\n",
      "22/12/10 01:42:47 INFO BlockManagerInfo: Added taskresult_14941 in memory on ip-172-31-15-141.us-east-2.compute.internal:36381 (size: 1100.3 KB, free: 4.8 GB)\n",
      "22/12/10 01:42:47 INFO TaskSetManager: Starting task 4.0 in stage 723.0 (TID 14944, ip-172-31-15-141.us-east-2.compute.internal, executor 34, partition 4, RACK_LOCAL, 8592 bytes)\n",
      "22/12/10 01:42:47 INFO TransportClientFactory: Successfully created connection to ip-172-31-15-141.us-east-2.compute.internal/172.31.15.141:36381 after 1 ms (0 ms spent in bootstraps)\n",
      "22/12/10 01:42:47 INFO TaskSetManager: Finished task 1.0 in stage 723.0 (TID 14941) in 7182 ms on ip-172-31-15-141.us-east-2.compute.internal (executor 34) (1/40)\n",
      "22/12/10 01:42:47 INFO BlockManagerInfo: Removed taskresult_14941 on ip-172-31-15-141.us-east-2.compute.internal:36381 in memory (size: 1100.3 KB, free: 4.8 GB)\n",
      "22/12/10 01:42:47 INFO BlockManagerInfo: Added taskresult_14943 in memory on ip-172-31-15-141.us-east-2.compute.internal:36381 (size: 1139.2 KB, free: 4.8 GB)\n",
      "22/12/10 01:42:47 INFO BlockManagerInfo: Added taskresult_14940 in memory on ip-172-31-15-141.us-east-2.compute.internal:36381 (size: 1093.8 KB, free: 4.8 GB)\n",
      "22/12/10 01:42:47 INFO TaskSetManager: Starting task 5.0 in stage 723.0 (TID 14945, ip-172-31-15-141.us-east-2.compute.internal, executor 34, partition 5, RACK_LOCAL, 8592 bytes)\n",
      "22/12/10 01:42:47 INFO TaskSetManager: Finished task 0.0 in stage 723.0 (TID 14940) in 7361 ms on ip-172-31-15-141.us-east-2.compute.internal (executor 34) (2/40)\n",
      "22/12/10 01:42:47 INFO BlockManagerInfo: Added taskresult_14942 in memory on ip-172-31-15-141.us-east-2.compute.internal:36381 (size: 1133.5 KB, free: 4.8 GB)\n",
      "22/12/10 01:42:47 INFO TaskSetManager: Starting task 6.0 in stage 723.0 (TID 14946, ip-172-31-15-141.us-east-2.compute.internal, executor 34, partition 6, RACK_LOCAL, 8592 bytes)\n",
      "22/12/10 01:42:47 INFO BlockManagerInfo: Removed taskresult_14940 on ip-172-31-15-141.us-east-2.compute.internal:36381 in memory (size: 1093.8 KB, free: 4.8 GB)\n",
      "22/12/10 01:42:47 INFO TaskSetManager: Finished task 3.0 in stage 723.0 (TID 14943) in 7373 ms on ip-172-31-15-141.us-east-2.compute.internal (executor 34) (3/40)\n",
      "22/12/10 01:42:47 INFO TaskSetManager: Starting task 7.0 in stage 723.0 (TID 14947, ip-172-31-15-141.us-east-2.compute.internal, executor 34, partition 7, RACK_LOCAL, 8592 bytes)\n",
      "22/12/10 01:42:47 INFO TaskSetManager: Finished task 2.0 in stage 723.0 (TID 14942) in 7384 ms on ip-172-31-15-141.us-east-2.compute.internal (executor 34) (4/40)\n",
      "22/12/10 01:42:47 INFO BlockManagerInfo: Removed taskresult_14943 on ip-172-31-15-141.us-east-2.compute.internal:36381 in memory (size: 1139.2 KB, free: 4.8 GB)\n",
      "22/12/10 01:42:47 INFO BlockManagerInfo: Removed taskresult_14942 on ip-172-31-15-141.us-east-2.compute.internal:36381 in memory (size: 1133.5 KB, free: 4.8 GB)\n",
      "22/12/10 01:42:50 INFO BlockManagerInfo: Added taskresult_14944 in memory on ip-172-31-15-141.us-east-2.compute.internal:36381 (size: 1101.8 KB, free: 4.8 GB)\n",
      "22/12/10 01:42:50 INFO TaskSetManager: Starting task 8.0 in stage 723.0 (TID 14948, ip-172-31-15-141.us-east-2.compute.internal, executor 34, partition 8, RACK_LOCAL, 8592 bytes)\n",
      "22/12/10 01:42:50 INFO TaskSetManager: Finished task 4.0 in stage 723.0 (TID 14944) in 3294 ms on ip-172-31-15-141.us-east-2.compute.internal (executor 34) (5/40)\n",
      "22/12/10 01:42:50 INFO BlockManagerInfo: Removed taskresult_14944 on ip-172-31-15-141.us-east-2.compute.internal:36381 in memory (size: 1101.8 KB, free: 4.8 GB)\n",
      "22/12/10 01:42:51 INFO BlockManagerInfo: Added taskresult_14945 in memory on ip-172-31-15-141.us-east-2.compute.internal:36381 (size: 1096.2 KB, free: 4.8 GB)\n",
      "22/12/10 01:42:51 INFO TaskSetManager: Starting task 9.0 in stage 723.0 (TID 14949, ip-172-31-15-141.us-east-2.compute.internal, executor 34, partition 9, RACK_LOCAL, 8592 bytes)\n",
      "22/12/10 01:42:51 INFO TaskSetManager: Finished task 5.0 in stage 723.0 (TID 14945) in 3533 ms on ip-172-31-15-141.us-east-2.compute.internal (executor 34) (6/40)\n",
      "22/12/10 01:42:51 INFO BlockManagerInfo: Removed taskresult_14945 on ip-172-31-15-141.us-east-2.compute.internal:36381 in memory (size: 1096.2 KB, free: 4.8 GB)\n",
      "22/12/10 01:42:51 INFO BlockManagerInfo: Added taskresult_14947 in memory on ip-172-31-15-141.us-east-2.compute.internal:36381 (size: 1143.4 KB, free: 4.8 GB)\n",
      "22/12/10 01:42:51 INFO TaskSetManager: Starting task 10.0 in stage 723.0 (TID 14950, ip-172-31-15-141.us-east-2.compute.internal, executor 34, partition 10, RACK_LOCAL, 8592 bytes)\n",
      "22/12/10 01:42:51 INFO TaskSetManager: Finished task 7.0 in stage 723.0 (TID 14947) in 3547 ms on ip-172-31-15-141.us-east-2.compute.internal (executor 34) (7/40)\n",
      "22/12/10 01:42:51 INFO BlockManagerInfo: Removed taskresult_14947 on ip-172-31-15-141.us-east-2.compute.internal:36381 in memory (size: 1143.4 KB, free: 4.8 GB)\n",
      "22/12/10 01:42:51 INFO BlockManagerInfo: Added taskresult_14946 in memory on ip-172-31-15-141.us-east-2.compute.internal:36381 (size: 1139.1 KB, free: 4.8 GB)\n",
      "22/12/10 01:42:51 INFO TaskSetManager: Starting task 11.0 in stage 723.0 (TID 14951, ip-172-31-15-141.us-east-2.compute.internal, executor 34, partition 11, RACK_LOCAL, 8592 bytes)\n",
      "22/12/10 01:42:51 INFO TaskSetManager: Finished task 6.0 in stage 723.0 (TID 14946) in 3923 ms on ip-172-31-15-141.us-east-2.compute.internal (executor 34) (8/40)\n",
      "22/12/10 01:42:51 INFO BlockManagerInfo: Removed taskresult_14946 on ip-172-31-15-141.us-east-2.compute.internal:36381 in memory (size: 1139.1 KB, free: 4.8 GB)\n",
      "22/12/10 01:42:54 INFO BlockManagerInfo: Added taskresult_14948 in memory on ip-172-31-15-141.us-east-2.compute.internal:36381 (size: 1103.0 KB, free: 4.8 GB)\n",
      "22/12/10 01:42:54 INFO TaskSetManager: Starting task 12.0 in stage 723.0 (TID 14952, ip-172-31-15-141.us-east-2.compute.internal, executor 34, partition 12, RACK_LOCAL, 8592 bytes)\n",
      "22/12/10 01:42:54 INFO TaskSetManager: Finished task 8.0 in stage 723.0 (TID 14948) in 3647 ms on ip-172-31-15-141.us-east-2.compute.internal (executor 34) (9/40)\n",
      "22/12/10 01:42:54 INFO BlockManagerInfo: Removed taskresult_14948 on ip-172-31-15-141.us-east-2.compute.internal:36381 in memory (size: 1103.0 KB, free: 4.8 GB)\n",
      "22/12/10 01:42:55 INFO BlockManagerInfo: Added taskresult_14949 in memory on ip-172-31-15-141.us-east-2.compute.internal:36381 (size: 1097.5 KB, free: 4.8 GB)\n",
      "22/12/10 01:42:55 INFO TaskSetManager: Starting task 13.0 in stage 723.0 (TID 14953, ip-172-31-15-141.us-east-2.compute.internal, executor 34, partition 13, RACK_LOCAL, 8592 bytes)\n",
      "22/12/10 01:42:55 INFO TaskSetManager: Finished task 9.0 in stage 723.0 (TID 14949) in 3731 ms on ip-172-31-15-141.us-east-2.compute.internal (executor 34) (10/40)\n",
      "22/12/10 01:42:55 INFO BlockManagerInfo: Removed taskresult_14949 on ip-172-31-15-141.us-east-2.compute.internal:36381 in memory (size: 1097.5 KB, free: 4.8 GB)\n",
      "22/12/10 01:42:55 INFO BlockManagerInfo: Added taskresult_14951 in memory on ip-172-31-15-141.us-east-2.compute.internal:36381 (size: 1151.2 KB, free: 4.8 GB)\n",
      "22/12/10 01:42:55 INFO TaskSetManager: Starting task 14.0 in stage 723.0 (TID 14954, ip-172-31-15-141.us-east-2.compute.internal, executor 34, partition 14, RACK_LOCAL, 8592 bytes)\n",
      "22/12/10 01:42:55 INFO TaskSetManager: Finished task 11.0 in stage 723.0 (TID 14951) in 3360 ms on ip-172-31-15-141.us-east-2.compute.internal (executor 34) (11/40)\n",
      "22/12/10 01:42:55 INFO BlockManagerInfo: Removed taskresult_14951 on ip-172-31-15-141.us-east-2.compute.internal:36381 in memory (size: 1151.2 KB, free: 4.8 GB)\n",
      "22/12/10 01:42:55 INFO BlockManagerInfo: Added taskresult_14950 in memory on ip-172-31-15-141.us-east-2.compute.internal:36381 (size: 1129.5 KB, free: 4.8 GB)\n",
      "22/12/10 01:42:55 INFO TaskSetManager: Starting task 15.0 in stage 723.0 (TID 14955, ip-172-31-15-141.us-east-2.compute.internal, executor 34, partition 15, RACK_LOCAL, 8592 bytes)\n",
      "22/12/10 01:42:55 INFO TaskSetManager: Finished task 10.0 in stage 723.0 (TID 14950) in 3767 ms on ip-172-31-15-141.us-east-2.compute.internal (executor 34) (12/40)\n",
      "22/12/10 01:42:55 INFO BlockManagerInfo: Removed taskresult_14950 on ip-172-31-15-141.us-east-2.compute.internal:36381 in memory (size: 1129.5 KB, free: 4.8 GB)\n",
      "22/12/10 01:42:57 INFO BlockManagerInfo: Added taskresult_14952 in memory on ip-172-31-15-141.us-east-2.compute.internal:36381 (size: 1105.8 KB, free: 4.8 GB)\n",
      "22/12/10 01:42:57 INFO TaskSetManager: Starting task 16.0 in stage 723.0 (TID 14956, ip-172-31-15-141.us-east-2.compute.internal, executor 34, partition 16, RACK_LOCAL, 8592 bytes)\n",
      "22/12/10 01:42:57 INFO TaskSetManager: Finished task 12.0 in stage 723.0 (TID 14952) in 3413 ms on ip-172-31-15-141.us-east-2.compute.internal (executor 34) (13/40)\n",
      "22/12/10 01:42:57 INFO BlockManagerInfo: Removed taskresult_14952 on ip-172-31-15-141.us-east-2.compute.internal:36381 in memory (size: 1105.8 KB, free: 4.8 GB)\n",
      "22/12/10 01:42:58 INFO BlockManagerInfo: Added taskresult_14954 in memory on ip-172-31-15-141.us-east-2.compute.internal:36381 (size: 1138.4 KB, free: 4.8 GB)\n",
      "22/12/10 01:42:58 INFO TaskSetManager: Starting task 17.0 in stage 723.0 (TID 14957, ip-172-31-15-141.us-east-2.compute.internal, executor 34, partition 17, RACK_LOCAL, 8592 bytes)\n",
      "22/12/10 01:42:58 INFO TaskSetManager: Finished task 14.0 in stage 723.0 (TID 14954) in 3252 ms on ip-172-31-15-141.us-east-2.compute.internal (executor 34) (14/40)\n",
      "22/12/10 01:42:58 INFO BlockManagerInfo: Removed taskresult_14954 on ip-172-31-15-141.us-east-2.compute.internal:36381 in memory (size: 1138.4 KB, free: 4.8 GB)\n",
      "22/12/10 01:42:58 INFO BlockManagerInfo: Added taskresult_14953 in memory on ip-172-31-15-141.us-east-2.compute.internal:36381 (size: 1099.2 KB, free: 4.8 GB)\n",
      "22/12/10 01:42:58 INFO TaskSetManager: Starting task 18.0 in stage 723.0 (TID 14958, ip-172-31-15-141.us-east-2.compute.internal, executor 34, partition 18, RACK_LOCAL, 8592 bytes)\n",
      "22/12/10 01:42:58 INFO TaskSetManager: Finished task 13.0 in stage 723.0 (TID 14953) in 3503 ms on ip-172-31-15-141.us-east-2.compute.internal (executor 34) (15/40)\n",
      "22/12/10 01:42:58 INFO BlockManagerInfo: Removed taskresult_14953 on ip-172-31-15-141.us-east-2.compute.internal:36381 in memory (size: 1099.2 KB, free: 4.8 GB)\n",
      "22/12/10 01:42:58 INFO BlockManagerInfo: Added taskresult_14955 in memory on ip-172-31-15-141.us-east-2.compute.internal:36381 (size: 1143.2 KB, free: 4.8 GB)\n",
      "22/12/10 01:42:58 INFO TaskSetManager: Starting task 19.0 in stage 723.0 (TID 14959, ip-172-31-15-141.us-east-2.compute.internal, executor 34, partition 19, RACK_LOCAL, 8592 bytes)\n",
      "22/12/10 01:42:58 INFO TaskSetManager: Finished task 15.0 in stage 723.0 (TID 14955) in 3606 ms on ip-172-31-15-141.us-east-2.compute.internal (executor 34) (16/40)\n",
      "22/12/10 01:42:58 INFO BlockManagerInfo: Removed taskresult_14955 on ip-172-31-15-141.us-east-2.compute.internal:36381 in memory (size: 1143.2 KB, free: 4.8 GB)\n",
      "22/12/10 01:43:01 INFO BlockManagerInfo: Added taskresult_14956 in memory on ip-172-31-15-141.us-east-2.compute.internal:36381 (size: 1094.6 KB, free: 4.8 GB)\n",
      "22/12/10 01:43:01 INFO TaskSetManager: Starting task 20.0 in stage 723.0 (TID 14960, ip-172-31-15-141.us-east-2.compute.internal, executor 34, partition 20, RACK_LOCAL, 8592 bytes)\n",
      "22/12/10 01:43:01 INFO TaskSetManager: Finished task 16.0 in stage 723.0 (TID 14956) in 3404 ms on ip-172-31-15-141.us-east-2.compute.internal (executor 34) (17/40)\n",
      "22/12/10 01:43:01 INFO BlockManagerInfo: Removed taskresult_14956 on ip-172-31-15-141.us-east-2.compute.internal:36381 in memory (size: 1094.6 KB, free: 4.8 GB)\n",
      "22/12/10 01:43:01 INFO BlockManagerInfo: Added taskresult_14957 in memory on ip-172-31-15-141.us-east-2.compute.internal:36381 (size: 1090.4 KB, free: 4.8 GB)\n",
      "22/12/10 01:43:01 INFO TaskSetManager: Starting task 21.0 in stage 723.0 (TID 14961, ip-172-31-15-141.us-east-2.compute.internal, executor 34, partition 21, RACK_LOCAL, 8592 bytes)\n",
      "22/12/10 01:43:01 INFO TaskSetManager: Finished task 17.0 in stage 723.0 (TID 14957) in 3672 ms on ip-172-31-15-141.us-east-2.compute.internal (executor 34) (18/40)\n",
      "22/12/10 01:43:01 INFO BlockManagerInfo: Removed taskresult_14957 on ip-172-31-15-141.us-east-2.compute.internal:36381 in memory (size: 1090.4 KB, free: 4.8 GB)\n",
      "22/12/10 01:43:02 INFO BlockManagerInfo: Added taskresult_14959 in memory on ip-172-31-15-141.us-east-2.compute.internal:36381 (size: 1140.1 KB, free: 4.8 GB)\n",
      "22/12/10 01:43:02 INFO BlockManagerInfo: Added taskresult_14958 in memory on ip-172-31-15-141.us-east-2.compute.internal:36381 (size: 1128.2 KB, free: 4.8 GB)\n",
      "22/12/10 01:43:02 INFO TaskSetManager: Starting task 22.0 in stage 723.0 (TID 14962, ip-172-31-15-141.us-east-2.compute.internal, executor 34, partition 22, RACK_LOCAL, 8592 bytes)\n",
      "22/12/10 01:43:02 INFO TaskSetManager: Starting task 23.0 in stage 723.0 (TID 14963, ip-172-31-15-141.us-east-2.compute.internal, executor 34, partition 23, RACK_LOCAL, 8592 bytes)\n",
      "22/12/10 01:43:02 INFO TaskSetManager: Finished task 19.0 in stage 723.0 (TID 14959) in 3495 ms on ip-172-31-15-141.us-east-2.compute.internal (executor 34) (19/40)\n",
      "22/12/10 01:43:02 INFO TaskSetManager: Finished task 18.0 in stage 723.0 (TID 14958) in 3676 ms on ip-172-31-15-141.us-east-2.compute.internal (executor 34) (20/40)\n",
      "22/12/10 01:43:02 INFO BlockManagerInfo: Removed taskresult_14959 on ip-172-31-15-141.us-east-2.compute.internal:36381 in memory (size: 1140.1 KB, free: 4.8 GB)\n",
      "22/12/10 01:43:02 INFO BlockManagerInfo: Removed taskresult_14958 on ip-172-31-15-141.us-east-2.compute.internal:36381 in memory (size: 1128.2 KB, free: 4.8 GB)\n",
      "22/12/10 01:43:04 INFO BlockManagerInfo: Added taskresult_14960 in memory on ip-172-31-15-141.us-east-2.compute.internal:36381 (size: 1103.7 KB, free: 4.8 GB)\n",
      "22/12/10 01:43:04 INFO TaskSetManager: Starting task 24.0 in stage 723.0 (TID 14964, ip-172-31-15-141.us-east-2.compute.internal, executor 34, partition 24, RACK_LOCAL, 8592 bytes)\n",
      "22/12/10 01:43:04 INFO TaskSetManager: Finished task 20.0 in stage 723.0 (TID 14960) in 3241 ms on ip-172-31-15-141.us-east-2.compute.internal (executor 34) (21/40)\n",
      "22/12/10 01:43:04 INFO BlockManagerInfo: Removed taskresult_14960 on ip-172-31-15-141.us-east-2.compute.internal:36381 in memory (size: 1103.7 KB, free: 4.8 GB)\n"
     ]
    }
   ],
   "source": [
    "dt = bus.select(\"business_id\", \"categories\")\n",
    "business_category = dt.withColumn('category',explode(split('categories',\", \")))\n",
    "\n",
    "business_category= business_category.drop(\"categories\")\n",
    "business_category.show(5)"
   ]
  },
  {
   "cell_type": "code",
   "execution_count": null,
   "id": "32506413-c9fa-4b39-b949-b972504c0c6a",
   "metadata": {},
   "outputs": [],
   "source": []
  }
 ],
 "metadata": {
  "kernelspec": {
   "display_name": "PySpark",
   "language": "python",
   "name": "pysparkkernel"
  },
  "language_info": {
   "codemirror_mode": {
    "name": "python",
    "version": 3
   },
   "file_extension": ".py",
   "mimetype": "text/x-python",
   "name": "pyspark",
   "pygments_lexer": "python3"
  }
 },
 "nbformat": 4,
 "nbformat_minor": 5
}
